{
 "cells": [
  {
   "cell_type": "markdown",
   "id": "32a6afab",
   "metadata": {},
   "source": [
    "# NLP for self improvement posts"
   ]
  },
  {
   "cell_type": "code",
   "execution_count": 1,
   "id": "5f65820f",
   "metadata": {},
   "outputs": [
    {
     "name": "stderr",
     "output_type": "stream",
     "text": [
      "[nltk_data] Downloading package punkt to /Users/maxwood/nltk_data...\n",
      "[nltk_data]   Package punkt is already up-to-date!\n"
     ]
    }
   ],
   "source": [
    "import os\n",
    "import json\n",
    "import pandas as pd\n",
    "import numpy as np\n",
    "import datetime as dt\n",
    "from langdetect import detect\n",
    "from cleantext import clean\n",
    "import matplotlib.pyplot as plt\n",
    "import nltk\n",
    "nltk.download('punkt')\n",
    "from nltk.tokenize import word_tokenize\n",
    "import spacy\n"
   ]
  },
  {
   "cell_type": "markdown",
   "id": "5e5cf699",
   "metadata": {},
   "source": [
    "### Scraping Data"
   ]
  },
  {
   "cell_type": "code",
   "execution_count": 2,
   "id": "133622ea",
   "metadata": {},
   "outputs": [],
   "source": [
    "#os.system(\"snscrape --jsonl --max-results 10000 reddit-subreddit 'selfimprovement'> self_improvement_sm.json\")"
   ]
  },
  {
   "cell_type": "code",
   "execution_count": 3,
   "id": "3facd5a2",
   "metadata": {},
   "outputs": [],
   "source": [
    "improvement_df = pd.read_json(\"self_improvement5.json\", lines=True)"
   ]
  },
  {
   "cell_type": "code",
   "execution_count": 4,
   "id": "29efb6f8",
   "metadata": {},
   "outputs": [
    {
     "data": {
      "text/html": [
       "<div>\n",
       "<style scoped>\n",
       "    .dataframe tbody tr th:only-of-type {\n",
       "        vertical-align: middle;\n",
       "    }\n",
       "\n",
       "    .dataframe tbody tr th {\n",
       "        vertical-align: top;\n",
       "    }\n",
       "\n",
       "    .dataframe thead th {\n",
       "        text-align: right;\n",
       "    }\n",
       "</style>\n",
       "<table border=\"1\" class=\"dataframe\">\n",
       "  <thead>\n",
       "    <tr style=\"text-align: right;\">\n",
       "      <th></th>\n",
       "      <th>_type</th>\n",
       "      <th>author</th>\n",
       "      <th>body</th>\n",
       "      <th>created</th>\n",
       "      <th>id</th>\n",
       "      <th>parentId</th>\n",
       "      <th>subreddit</th>\n",
       "      <th>url</th>\n",
       "      <th>link</th>\n",
       "      <th>selftext</th>\n",
       "      <th>title</th>\n",
       "    </tr>\n",
       "  </thead>\n",
       "  <tbody>\n",
       "    <tr>\n",
       "      <th>0</th>\n",
       "      <td>snscrape.modules.reddit.Comment</td>\n",
       "      <td>TheJahmal</td>\n",
       "      <td>Reading through this there’s a lot of focus on...</td>\n",
       "      <td>2022-05-05T06:12:04+00:00</td>\n",
       "      <td>t1_i7e87ut</td>\n",
       "      <td>t3_uipaow</td>\n",
       "      <td>selfimprovement</td>\n",
       "      <td>https://old.reddit.com/r/selfimprovement/comme...</td>\n",
       "      <td>NaN</td>\n",
       "      <td>NaN</td>\n",
       "      <td>NaN</td>\n",
       "    </tr>\n",
       "    <tr>\n",
       "      <th>1</th>\n",
       "      <td>snscrape.modules.reddit.Comment</td>\n",
       "      <td>DepressedLemur9</td>\n",
       "      <td>Come on man, you will get your time for everyt...</td>\n",
       "      <td>2022-05-05T06:03:39+00:00</td>\n",
       "      <td>t1_i7e7ji7</td>\n",
       "      <td>t1_i7auwzq</td>\n",
       "      <td>selfimprovement</td>\n",
       "      <td>https://old.reddit.com/r/selfimprovement/comme...</td>\n",
       "      <td>NaN</td>\n",
       "      <td>NaN</td>\n",
       "      <td>NaN</td>\n",
       "    </tr>\n",
       "    <tr>\n",
       "      <th>2</th>\n",
       "      <td>snscrape.modules.reddit.Comment</td>\n",
       "      <td>CertifiedShotta</td>\n",
       "      <td>Lol sure who this</td>\n",
       "      <td>2022-05-05T05:58:42+00:00</td>\n",
       "      <td>t1_i7e74ra</td>\n",
       "      <td>t1_i7e6rek</td>\n",
       "      <td>selfimprovement</td>\n",
       "      <td>https://old.reddit.com/r/selfimprovement/comme...</td>\n",
       "      <td>NaN</td>\n",
       "      <td>NaN</td>\n",
       "      <td>NaN</td>\n",
       "    </tr>\n",
       "    <tr>\n",
       "      <th>3</th>\n",
       "      <td>snscrape.modules.reddit.Comment</td>\n",
       "      <td>SixtyMetreMud</td>\n",
       "      <td>its strange, I feel like up until about 23-24 ...</td>\n",
       "      <td>2022-05-05T05:54:52+00:00</td>\n",
       "      <td>t1_i7e6tjv</td>\n",
       "      <td>t1_i7bmky6</td>\n",
       "      <td>selfimprovement</td>\n",
       "      <td>https://old.reddit.com/r/selfimprovement/comme...</td>\n",
       "      <td>NaN</td>\n",
       "      <td>NaN</td>\n",
       "      <td>NaN</td>\n",
       "    </tr>\n",
       "    <tr>\n",
       "      <th>4</th>\n",
       "      <td>snscrape.modules.reddit.Comment</td>\n",
       "      <td>Rubenisms</td>\n",
       "      <td>Cooking\\nBudgeting</td>\n",
       "      <td>2022-05-05T05:54:23+00:00</td>\n",
       "      <td>t1_i7e6s5k</td>\n",
       "      <td>t3_uih03s</td>\n",
       "      <td>selfimprovement</td>\n",
       "      <td>https://old.reddit.com/r/selfimprovement/comme...</td>\n",
       "      <td>NaN</td>\n",
       "      <td>NaN</td>\n",
       "      <td>NaN</td>\n",
       "    </tr>\n",
       "    <tr>\n",
       "      <th>5</th>\n",
       "      <td>snscrape.modules.reddit.Comment</td>\n",
       "      <td>Zubbo64</td>\n",
       "      <td>I know you IRL! Lol</td>\n",
       "      <td>2022-05-05T05:54:07+00:00</td>\n",
       "      <td>t1_i7e6rek</td>\n",
       "      <td>t3_uiq1cl</td>\n",
       "      <td>selfimprovement</td>\n",
       "      <td>https://old.reddit.com/r/selfimprovement/comme...</td>\n",
       "      <td>NaN</td>\n",
       "      <td>NaN</td>\n",
       "      <td>NaN</td>\n",
       "    </tr>\n",
       "    <tr>\n",
       "      <th>6</th>\n",
       "      <td>snscrape.modules.reddit.Submission</td>\n",
       "      <td>throwaway3c3</td>\n",
       "      <td>NaN</td>\n",
       "      <td>2022-05-05T05:49:41+00:00</td>\n",
       "      <td>t3_uiqlj3</td>\n",
       "      <td>NaN</td>\n",
       "      <td>selfimprovement</td>\n",
       "      <td>https://old.reddit.com/r/selfimprovement/comme...</td>\n",
       "      <td>None</td>\n",
       "      <td>Self parenting is something I've learned a bit...</td>\n",
       "      <td>Improving but still hurting</td>\n",
       "    </tr>\n",
       "    <tr>\n",
       "      <th>7</th>\n",
       "      <td>snscrape.modules.reddit.Comment</td>\n",
       "      <td>Thin_Ad_4763</td>\n",
       "      <td>Totally!!!!!</td>\n",
       "      <td>2022-05-05T05:47:50+00:00</td>\n",
       "      <td>t1_i7e68eg</td>\n",
       "      <td>t1_i70yglx</td>\n",
       "      <td>selfimprovement</td>\n",
       "      <td>https://old.reddit.com/r/selfimprovement/comme...</td>\n",
       "      <td>NaN</td>\n",
       "      <td>NaN</td>\n",
       "      <td>NaN</td>\n",
       "    </tr>\n",
       "    <tr>\n",
       "      <th>8</th>\n",
       "      <td>snscrape.modules.reddit.Comment</td>\n",
       "      <td>Zubbo64</td>\n",
       "      <td>Move back to a city no matter the consequences...</td>\n",
       "      <td>2022-05-05T05:46:24+00:00</td>\n",
       "      <td>t1_i7e63zx</td>\n",
       "      <td>t3_uiqcne</td>\n",
       "      <td>selfimprovement</td>\n",
       "      <td>https://old.reddit.com/r/selfimprovement/comme...</td>\n",
       "      <td>NaN</td>\n",
       "      <td>NaN</td>\n",
       "      <td>NaN</td>\n",
       "    </tr>\n",
       "    <tr>\n",
       "      <th>9</th>\n",
       "      <td>snscrape.modules.reddit.Comment</td>\n",
       "      <td>noresellcrew</td>\n",
       "      <td>Wait so you’re trying to say you are this way ...</td>\n",
       "      <td>2022-05-05T05:41:35+00:00</td>\n",
       "      <td>t1_i7e5p8r</td>\n",
       "      <td>t3_uipaow</td>\n",
       "      <td>selfimprovement</td>\n",
       "      <td>https://old.reddit.com/r/selfimprovement/comme...</td>\n",
       "      <td>NaN</td>\n",
       "      <td>NaN</td>\n",
       "      <td>NaN</td>\n",
       "    </tr>\n",
       "  </tbody>\n",
       "</table>\n",
       "</div>"
      ],
      "text/plain": [
       "                                _type           author  \\\n",
       "0     snscrape.modules.reddit.Comment        TheJahmal   \n",
       "1     snscrape.modules.reddit.Comment  DepressedLemur9   \n",
       "2     snscrape.modules.reddit.Comment  CertifiedShotta   \n",
       "3     snscrape.modules.reddit.Comment    SixtyMetreMud   \n",
       "4     snscrape.modules.reddit.Comment        Rubenisms   \n",
       "5     snscrape.modules.reddit.Comment          Zubbo64   \n",
       "6  snscrape.modules.reddit.Submission     throwaway3c3   \n",
       "7     snscrape.modules.reddit.Comment     Thin_Ad_4763   \n",
       "8     snscrape.modules.reddit.Comment          Zubbo64   \n",
       "9     snscrape.modules.reddit.Comment     noresellcrew   \n",
       "\n",
       "                                                body  \\\n",
       "0  Reading through this there’s a lot of focus on...   \n",
       "1  Come on man, you will get your time for everyt...   \n",
       "2                                  Lol sure who this   \n",
       "3  its strange, I feel like up until about 23-24 ...   \n",
       "4                                 Cooking\\nBudgeting   \n",
       "5                                I know you IRL! Lol   \n",
       "6                                                NaN   \n",
       "7                                       Totally!!!!!   \n",
       "8  Move back to a city no matter the consequences...   \n",
       "9  Wait so you’re trying to say you are this way ...   \n",
       "\n",
       "                     created          id    parentId        subreddit  \\\n",
       "0  2022-05-05T06:12:04+00:00  t1_i7e87ut   t3_uipaow  selfimprovement   \n",
       "1  2022-05-05T06:03:39+00:00  t1_i7e7ji7  t1_i7auwzq  selfimprovement   \n",
       "2  2022-05-05T05:58:42+00:00  t1_i7e74ra  t1_i7e6rek  selfimprovement   \n",
       "3  2022-05-05T05:54:52+00:00  t1_i7e6tjv  t1_i7bmky6  selfimprovement   \n",
       "4  2022-05-05T05:54:23+00:00  t1_i7e6s5k   t3_uih03s  selfimprovement   \n",
       "5  2022-05-05T05:54:07+00:00  t1_i7e6rek   t3_uiq1cl  selfimprovement   \n",
       "6  2022-05-05T05:49:41+00:00   t3_uiqlj3         NaN  selfimprovement   \n",
       "7  2022-05-05T05:47:50+00:00  t1_i7e68eg  t1_i70yglx  selfimprovement   \n",
       "8  2022-05-05T05:46:24+00:00  t1_i7e63zx   t3_uiqcne  selfimprovement   \n",
       "9  2022-05-05T05:41:35+00:00  t1_i7e5p8r   t3_uipaow  selfimprovement   \n",
       "\n",
       "                                                 url  link  \\\n",
       "0  https://old.reddit.com/r/selfimprovement/comme...   NaN   \n",
       "1  https://old.reddit.com/r/selfimprovement/comme...   NaN   \n",
       "2  https://old.reddit.com/r/selfimprovement/comme...   NaN   \n",
       "3  https://old.reddit.com/r/selfimprovement/comme...   NaN   \n",
       "4  https://old.reddit.com/r/selfimprovement/comme...   NaN   \n",
       "5  https://old.reddit.com/r/selfimprovement/comme...   NaN   \n",
       "6  https://old.reddit.com/r/selfimprovement/comme...  None   \n",
       "7  https://old.reddit.com/r/selfimprovement/comme...   NaN   \n",
       "8  https://old.reddit.com/r/selfimprovement/comme...   NaN   \n",
       "9  https://old.reddit.com/r/selfimprovement/comme...   NaN   \n",
       "\n",
       "                                            selftext  \\\n",
       "0                                                NaN   \n",
       "1                                                NaN   \n",
       "2                                                NaN   \n",
       "3                                                NaN   \n",
       "4                                                NaN   \n",
       "5                                                NaN   \n",
       "6  Self parenting is something I've learned a bit...   \n",
       "7                                                NaN   \n",
       "8                                                NaN   \n",
       "9                                                NaN   \n",
       "\n",
       "                         title  \n",
       "0                          NaN  \n",
       "1                          NaN  \n",
       "2                          NaN  \n",
       "3                          NaN  \n",
       "4                          NaN  \n",
       "5                          NaN  \n",
       "6  Improving but still hurting  \n",
       "7                          NaN  \n",
       "8                          NaN  \n",
       "9                          NaN  "
      ]
     },
     "execution_count": 4,
     "metadata": {},
     "output_type": "execute_result"
    }
   ],
   "source": [
    "improvement_df.head(10)"
   ]
  },
  {
   "cell_type": "markdown",
   "id": "c38cfc8a",
   "metadata": {},
   "source": [
    "#### Example of what a title and a post look like"
   ]
  },
  {
   "cell_type": "code",
   "execution_count": 5,
   "id": "313c41c8",
   "metadata": {},
   "outputs": [
    {
     "data": {
      "text/plain": [
       "'Improving but still hurting'"
      ]
     },
     "execution_count": 5,
     "metadata": {},
     "output_type": "execute_result"
    }
   ],
   "source": [
    "improvement_df.loc[6].title"
   ]
  },
  {
   "cell_type": "code",
   "execution_count": 6,
   "id": "0c939ac4",
   "metadata": {},
   "outputs": [
    {
     "data": {
      "text/plain": [
       "\"Self parenting is something I've learned a bit about recently, creating dialogues within yourself, between your inner child and adult self to correct unacceptable behavior from your reactive self. I've had the opportunity to actually improve for some time now and it's been slow. I believe I need to be patient with myself but, life hurts a lot. I don't know how to cope with what I feel, I do attend therapy btw. There is room for improvement in my routine and that's about all I recognize that's you know, in my power to change. I have friends, I have family but I don't know how to communicate my current state, otherwise I'm performing normalcy. I feel like I could only improve my life, and my character, not much makes me feel.. good though, and that's probably from a shattered self image and rough upbringing. I want to skip to the part where I know how to help myself better and all I'm landing on is patience and consistency, the present, although I'm in it, hurts a ton.\""
      ]
     },
     "execution_count": 6,
     "metadata": {},
     "output_type": "execute_result"
    }
   ],
   "source": [
    "improvement_df.loc[6].selftext"
   ]
  },
  {
   "cell_type": "code",
   "execution_count": 7,
   "id": "c9440159",
   "metadata": {},
   "outputs": [],
   "source": [
    "# Making the created column a datetime object\n",
    "improvement_df['date_time'] = improvement_df.created.apply(lambda x: dt.datetime.fromisoformat(x))\n",
    "improvement_df['year'] = improvement_df.date_time.apply(lambda x: x.year)\n",
    "improvement_df['month'] = improvement_df.date_time.apply(lambda x: x.month)"
   ]
  },
  {
   "cell_type": "code",
   "execution_count": 8,
   "id": "d203d1a4",
   "metadata": {},
   "outputs": [],
   "source": [
    "# splitting dataframe into comment and post dataframes\n",
    "comment_df = improvement_df[improvement_df['_type'] == 'snscrape.modules.reddit.Comment']\n",
    "comment_df = comment_df.drop(columns = ['link','selftext','title'])\n",
    "comment_df = comment_df.dropna()"
   ]
  },
  {
   "cell_type": "markdown",
   "id": "96c21eef",
   "metadata": {},
   "source": [
    "## Cleaning Comments"
   ]
  },
  {
   "cell_type": "code",
   "execution_count": 9,
   "id": "7f80eebe",
   "metadata": {},
   "outputs": [],
   "source": [
    "# Generally removing not useful comments\n",
    "comment_df = comment_df[comment_df['body']!='[deleted]']\n",
    "comment_df = comment_df[comment_df['body']!='[removed]']\n",
    "comment_df = comment_df[comment_df.body != 'None']\n",
    "comment_df = comment_df[comment_df.body != '']\n",
    "comment_df = comment_df[comment_df.body != ' ']\n",
    "comment_df = comment_df[comment_df.author != 'AutoModerator']\n",
    "\n",
    "comment_df['is_digit'] = comment_df.body.apply(lambda x: x.isdigit())\n",
    "comment_df = comment_df[comment_df.is_digit != True]"
   ]
  },
  {
   "cell_type": "code",
   "execution_count": 10,
   "id": "e35cabd6",
   "metadata": {},
   "outputs": [],
   "source": [
    "# removing some columns I don't need to clean things up \n",
    "comment_df = comment_df.drop(columns = ['subreddit','created','is_digit','_type'])"
   ]
  },
  {
   "cell_type": "code",
   "execution_count": 11,
   "id": "bf43e00c",
   "metadata": {},
   "outputs": [],
   "source": [
    "# chaniging everything to lowercase, removing punctuation, and removing emoji's, ect.\n",
    "comment_df['cleaned_body'] = comment_df.body.apply(lambda x: clean(x,\n",
    "                                                                   lang = 'eng',\n",
    "                                                                   no_emoji = True,\n",
    "                                                                   no_line_breaks = True,\n",
    "                                                                   no_urls = True,\n",
    "                                                                   no_emails = True,\n",
    "                                                                   no_phone_numbers = True,\n",
    "                                                                   no_currency_symbols = True,\n",
    "                                                                   no_punct = True))"
   ]
  },
  {
   "cell_type": "code",
   "execution_count": 12,
   "id": "a4b03f8e",
   "metadata": {},
   "outputs": [],
   "source": [
    "comment_df['tokenized_body'] = comment_df.cleaned_body.apply(lambda x: word_tokenize(x))"
   ]
  },
  {
   "cell_type": "code",
   "execution_count": 13,
   "id": "abb78c87",
   "metadata": {},
   "outputs": [
    {
     "name": "stderr",
     "output_type": "stream",
     "text": [
      "[nltk_data] Downloading package stopwords to\n",
      "[nltk_data]     /Users/maxwood/nltk_data...\n",
      "[nltk_data]   Package stopwords is already up-to-date!\n"
     ]
    }
   ],
   "source": [
    "import nltk\n",
    "from nltk.corpus import stopwords\n",
    "nltk.download('stopwords')\n",
    "sw_nltk1 = stopwords.words('english')\n",
    "sw_nltk = word_tokenize(clean(sw_nltk1,no_punct = True))\n",
    "sw_nltk.append('ill')\n",
    "sw_nltk.append('ive')\n",
    "sw_nltk.append('id')\n",
    "sw_nltk.append('im')\n",
    "\n",
    "#consider_removing = ['like','feel','goal','think',\n",
    "#                     'life','feel','improve','selfimprovement',\n",
    "#                     'thing','want','make','would','get']\n",
    "#sw_nltk = sw_nltk+consider_removing \n"
   ]
  },
  {
   "cell_type": "code",
   "execution_count": 14,
   "id": "08dd0564",
   "metadata": {},
   "outputs": [],
   "source": [
    "comment_df['sw_removed_body'] = comment_df.tokenized_body.apply(lambda l1: [x for x in l1 if x not in sw_nltk])"
   ]
  },
  {
   "cell_type": "code",
   "execution_count": 15,
   "id": "693283a6",
   "metadata": {},
   "outputs": [
    {
     "data": {
      "text/html": [
       "<div>\n",
       "<style scoped>\n",
       "    .dataframe tbody tr th:only-of-type {\n",
       "        vertical-align: middle;\n",
       "    }\n",
       "\n",
       "    .dataframe tbody tr th {\n",
       "        vertical-align: top;\n",
       "    }\n",
       "\n",
       "    .dataframe thead th {\n",
       "        text-align: right;\n",
       "    }\n",
       "</style>\n",
       "<table border=\"1\" class=\"dataframe\">\n",
       "  <thead>\n",
       "    <tr style=\"text-align: right;\">\n",
       "      <th></th>\n",
       "      <th>author</th>\n",
       "      <th>body</th>\n",
       "      <th>id</th>\n",
       "      <th>parentId</th>\n",
       "      <th>url</th>\n",
       "      <th>date_time</th>\n",
       "      <th>year</th>\n",
       "      <th>month</th>\n",
       "      <th>cleaned_body</th>\n",
       "      <th>tokenized_body</th>\n",
       "      <th>sw_removed_body</th>\n",
       "    </tr>\n",
       "  </thead>\n",
       "  <tbody>\n",
       "    <tr>\n",
       "      <th>57043</th>\n",
       "      <td>Subject_314159</td>\n",
       "      <td>Generic approach to apply on almost everything...</td>\n",
       "      <td>t1_hwddid3</td>\n",
       "      <td>t3_sp0616</td>\n",
       "      <td>https://old.reddit.com/r/selfimprovement/comme...</td>\n",
       "      <td>2022-02-10 14:40:14+00:00</td>\n",
       "      <td>2022</td>\n",
       "      <td>2</td>\n",
       "      <td>generic approach to apply on almost everything...</td>\n",
       "      <td>[generic, approach, to, apply, on, almost, eve...</td>\n",
       "      <td>[generic, approach, apply, almost, everything,...</td>\n",
       "    </tr>\n",
       "    <tr>\n",
       "      <th>98312</th>\n",
       "      <td>1stJune2021</td>\n",
       "      <td>Love this analogy so much!</td>\n",
       "      <td>t1_hpnpta1</td>\n",
       "      <td>t1_hpasgp0</td>\n",
       "      <td>https://old.reddit.com/r/selfimprovement/comme...</td>\n",
       "      <td>2021-12-23 07:34:47+00:00</td>\n",
       "      <td>2021</td>\n",
       "      <td>12</td>\n",
       "      <td>love this analogy so much</td>\n",
       "      <td>[love, this, analogy, so, much]</td>\n",
       "      <td>[love, analogy, much]</td>\n",
       "    </tr>\n",
       "    <tr>\n",
       "      <th>132382</th>\n",
       "      <td>stillyou1122</td>\n",
       "      <td>That's why being kind to online strangers is a...</td>\n",
       "      <td>t1_hjwk2bx</td>\n",
       "      <td>t1_hjviepq</td>\n",
       "      <td>https://old.reddit.com/r/selfimprovement/comme...</td>\n",
       "      <td>2021-11-09 05:40:59+00:00</td>\n",
       "      <td>2021</td>\n",
       "      <td>11</td>\n",
       "      <td>thats why being kind to online strangers is a ...</td>\n",
       "      <td>[thats, why, being, kind, to, online, stranger...</td>\n",
       "      <td>[thats, kind, online, strangers, necessity, kn...</td>\n",
       "    </tr>\n",
       "    <tr>\n",
       "      <th>635280</th>\n",
       "      <td>unigami</td>\n",
       "      <td>You have to have some kind of reward system bu...</td>\n",
       "      <td>t1_e3grz3l</td>\n",
       "      <td>t3_93xw38</td>\n",
       "      <td>https://old.reddit.com/r/selfimprovement/comme...</td>\n",
       "      <td>2018-08-02 10:36:36+00:00</td>\n",
       "      <td>2018</td>\n",
       "      <td>8</td>\n",
       "      <td>you have to have some kind of reward system bu...</td>\n",
       "      <td>[you, have, to, have, some, kind, of, reward, ...</td>\n",
       "      <td>[kind, reward, system, built, even, simple, ma...</td>\n",
       "    </tr>\n",
       "    <tr>\n",
       "      <th>559414</th>\n",
       "      <td>momosem</td>\n",
       "      <td>Do something you're not used to, like drawing,...</td>\n",
       "      <td>t1_emufaye</td>\n",
       "      <td>t3_bm39ld</td>\n",
       "      <td>https://old.reddit.com/r/selfimprovement/comme...</td>\n",
       "      <td>2019-05-08 16:55:32+00:00</td>\n",
       "      <td>2019</td>\n",
       "      <td>5</td>\n",
       "      <td>do something youre not used to like drawing bo...</td>\n",
       "      <td>[do, something, youre, not, used, to, like, dr...</td>\n",
       "      <td>[something, used, like, drawing, bowling, brea...</td>\n",
       "    </tr>\n",
       "  </tbody>\n",
       "</table>\n",
       "</div>"
      ],
      "text/plain": [
       "                author                                               body  \\\n",
       "57043   Subject_314159  Generic approach to apply on almost everything...   \n",
       "98312      1stJune2021                         Love this analogy so much!   \n",
       "132382    stillyou1122  That's why being kind to online strangers is a...   \n",
       "635280         unigami  You have to have some kind of reward system bu...   \n",
       "559414         momosem  Do something you're not used to, like drawing,...   \n",
       "\n",
       "                id    parentId  \\\n",
       "57043   t1_hwddid3   t3_sp0616   \n",
       "98312   t1_hpnpta1  t1_hpasgp0   \n",
       "132382  t1_hjwk2bx  t1_hjviepq   \n",
       "635280  t1_e3grz3l   t3_93xw38   \n",
       "559414  t1_emufaye   t3_bm39ld   \n",
       "\n",
       "                                                      url  \\\n",
       "57043   https://old.reddit.com/r/selfimprovement/comme...   \n",
       "98312   https://old.reddit.com/r/selfimprovement/comme...   \n",
       "132382  https://old.reddit.com/r/selfimprovement/comme...   \n",
       "635280  https://old.reddit.com/r/selfimprovement/comme...   \n",
       "559414  https://old.reddit.com/r/selfimprovement/comme...   \n",
       "\n",
       "                       date_time  year  month  \\\n",
       "57043  2022-02-10 14:40:14+00:00  2022      2   \n",
       "98312  2021-12-23 07:34:47+00:00  2021     12   \n",
       "132382 2021-11-09 05:40:59+00:00  2021     11   \n",
       "635280 2018-08-02 10:36:36+00:00  2018      8   \n",
       "559414 2019-05-08 16:55:32+00:00  2019      5   \n",
       "\n",
       "                                             cleaned_body  \\\n",
       "57043   generic approach to apply on almost everything...   \n",
       "98312                           love this analogy so much   \n",
       "132382  thats why being kind to online strangers is a ...   \n",
       "635280  you have to have some kind of reward system bu...   \n",
       "559414  do something youre not used to like drawing bo...   \n",
       "\n",
       "                                           tokenized_body  \\\n",
       "57043   [generic, approach, to, apply, on, almost, eve...   \n",
       "98312                     [love, this, analogy, so, much]   \n",
       "132382  [thats, why, being, kind, to, online, stranger...   \n",
       "635280  [you, have, to, have, some, kind, of, reward, ...   \n",
       "559414  [do, something, youre, not, used, to, like, dr...   \n",
       "\n",
       "                                          sw_removed_body  \n",
       "57043   [generic, approach, apply, almost, everything,...  \n",
       "98312                               [love, analogy, much]  \n",
       "132382  [thats, kind, online, strangers, necessity, kn...  \n",
       "635280  [kind, reward, system, built, even, simple, ma...  \n",
       "559414  [something, used, like, drawing, bowling, brea...  "
      ]
     },
     "execution_count": 15,
     "metadata": {},
     "output_type": "execute_result"
    }
   ],
   "source": [
    "comment_df.sample(5)"
   ]
  },
  {
   "cell_type": "code",
   "execution_count": 16,
   "id": "ac049ed5",
   "metadata": {},
   "outputs": [
    {
     "data": {
      "text/plain": [
       "'Reading this made me calm down. My heart was pounding fast and heavy before that. Thank you so much! Sending you positive vibes 💐'"
      ]
     },
     "execution_count": 16,
     "metadata": {},
     "output_type": "execute_result"
    }
   ],
   "source": [
    "comment_df.iloc[14].body"
   ]
  },
  {
   "cell_type": "code",
   "execution_count": 17,
   "id": "dfc43874",
   "metadata": {},
   "outputs": [
    {
     "data": {
      "text/plain": [
       "'reading this made me calm down my heart was pounding fast and heavy before that thank you so much sending you positive vibes'"
      ]
     },
     "execution_count": 17,
     "metadata": {},
     "output_type": "execute_result"
    }
   ],
   "source": [
    "comment_df.iloc[14].cleaned_body"
   ]
  },
  {
   "cell_type": "markdown",
   "id": "102c58d5",
   "metadata": {},
   "source": [
    "## Cleaning Posts"
   ]
  },
  {
   "cell_type": "code",
   "execution_count": 18,
   "id": "a059d68a",
   "metadata": {},
   "outputs": [
    {
     "name": "stdout",
     "output_type": "stream",
     "text": [
      "94752\n"
     ]
    }
   ],
   "source": [
    "post_df = improvement_df[improvement_df['_type'] == 'snscrape.modules.reddit.Submission']\n",
    "print(len(post_df))\n",
    "post_df = post_df.drop(columns = ['link','body','parentId','_type','subreddit'])\n",
    "post_df = post_df.dropna()"
   ]
  },
  {
   "cell_type": "code",
   "execution_count": 19,
   "id": "7e3657c3",
   "metadata": {},
   "outputs": [],
   "source": [
    "# Generally removing not useful posts\n",
    "post_df = post_df[post_df['selftext']!='[deleted]']\n",
    "post_df = post_df[post_df['selftext']!='[removed]']\n",
    "post_df = post_df[post_df.selftext != 'None']\n",
    "post_df = post_df[post_df.selftext != '']\n",
    "post_df = post_df[post_df.selftext != ' ']\n",
    "\n",
    "post_df['is_digit'] = post_df.selftext.apply(lambda x: x.isdigit())\n",
    "post_df = post_df[post_df.is_digit != True]"
   ]
  },
  {
   "cell_type": "code",
   "execution_count": 20,
   "id": "584d9155",
   "metadata": {},
   "outputs": [],
   "source": [
    "# chaniging everything to lowercase, removing punctuation, and removing emoji's, ect.\n",
    "post_df['cleaned_title'] = post_df.title.apply(lambda x: clean(x,\n",
    "                                                                   lang = 'eng',\n",
    "                                                                   no_emoji = True,\n",
    "                                                                   no_line_breaks = True,\n",
    "                                                                   no_urls = True,\n",
    "                                                                   no_emails = True,\n",
    "                                                                   no_phone_numbers = True,\n",
    "                                                                   no_currency_symbols = True,\n",
    "                                                                   no_punct = True))"
   ]
  },
  {
   "cell_type": "code",
   "execution_count": 21,
   "id": "83be538d",
   "metadata": {},
   "outputs": [],
   "source": [
    "# chaniging everything to lowercase, removing punctuation, and removing emoji's, ect.\n",
    "post_df['cleaned_selftext'] = post_df.selftext.apply(lambda x: clean(x,\n",
    "                                                                   lang = 'eng',\n",
    "                                                                   no_emoji = True,\n",
    "                                                                   no_line_breaks = True,\n",
    "                                                                   no_urls = True,\n",
    "                                                                   no_emails = True,\n",
    "                                                                   no_phone_numbers = True,\n",
    "                                                                   no_currency_symbols = True,\n",
    "                                                                   no_punct = True))"
   ]
  },
  {
   "cell_type": "code",
   "execution_count": 22,
   "id": "a4c8559f",
   "metadata": {},
   "outputs": [],
   "source": [
    "post_df['tokenized_title'] = post_df.cleaned_title.apply(lambda x: word_tokenize(x))"
   ]
  },
  {
   "cell_type": "code",
   "execution_count": 23,
   "id": "aa6a8b74",
   "metadata": {},
   "outputs": [],
   "source": [
    "post_df['tokenized_selftext'] = post_df.cleaned_selftext.apply(lambda x: word_tokenize(x))"
   ]
  },
  {
   "cell_type": "code",
   "execution_count": 24,
   "id": "f09da951",
   "metadata": {},
   "outputs": [],
   "source": [
    "post_df['sw_removed_title'] = post_df.tokenized_title.apply(lambda l1: [x for x in l1 if x not in sw_nltk])"
   ]
  },
  {
   "cell_type": "code",
   "execution_count": 25,
   "id": "0ac277f1",
   "metadata": {},
   "outputs": [],
   "source": [
    "post_df['sw_removed_selftext'] = post_df.tokenized_selftext.apply(lambda l1: [x for x in l1 if x not in sw_nltk])"
   ]
  },
  {
   "cell_type": "code",
   "execution_count": 26,
   "id": "33ace922",
   "metadata": {},
   "outputs": [
    {
     "name": "stderr",
     "output_type": "stream",
     "text": [
      "[nltk_data] Downloading package averaged_perceptron_tagger to\n",
      "[nltk_data]     /Users/maxwood/nltk_data...\n",
      "[nltk_data]   Package averaged_perceptron_tagger is already up-to-\n",
      "[nltk_data]       date!\n"
     ]
    },
    {
     "data": {
      "text/plain": [
       "True"
      ]
     },
     "execution_count": 26,
     "metadata": {},
     "output_type": "execute_result"
    }
   ],
   "source": [
    "## Tagging part of speech now\n",
    "from nltk.tag import pos_tag\n",
    "nltk.download('averaged_perceptron_tagger')"
   ]
  },
  {
   "cell_type": "code",
   "execution_count": 27,
   "id": "0b57e1f3",
   "metadata": {},
   "outputs": [],
   "source": [
    "post_df['tagged_title'] = post_df.sw_removed_title.apply(lambda x: pos_tag(x))"
   ]
  },
  {
   "cell_type": "code",
   "execution_count": 29,
   "id": "6f62dde2",
   "metadata": {},
   "outputs": [],
   "source": [
    "post_df['tagged_selftext'] = post_df.sw_removed_selftext.apply(lambda x: pos_tag(x))"
   ]
  },
  {
   "cell_type": "code",
   "execution_count": 30,
   "id": "8ab877b6",
   "metadata": {},
   "outputs": [],
   "source": [
    "from nltk.corpus import wordnet\n",
    "def get_wordnet_pos(tags):\n",
    "    pos_list = []\n",
    "    for tag in tags:\n",
    "        if tag[1].startswith('J'):\n",
    "            pos_list.append(wordnet.ADJ)\n",
    "        elif tag[1].startswith('V'):\n",
    "            pos_list.append(wordnet.VERB)\n",
    "        elif tag[1].startswith('N'):\n",
    "            pos_list.append(wordnet.NOUN)\n",
    "        elif tag[1].startswith('R'):\n",
    "            pos_list.append(wordnet.ADV)\n",
    "        else:\n",
    "            pos_list.append('n')\n",
    "    return(np.array(pos_list))\n"
   ]
  },
  {
   "cell_type": "code",
   "execution_count": 31,
   "id": "bd0119f9",
   "metadata": {},
   "outputs": [],
   "source": [
    "post_df['pos_title'] = post_df.tagged_title.apply(lambda x: get_wordnet_pos(x))"
   ]
  },
  {
   "cell_type": "code",
   "execution_count": 32,
   "id": "f2142ea1",
   "metadata": {},
   "outputs": [],
   "source": [
    "post_df['pos_selftext'] = post_df.tagged_selftext.apply(lambda x: get_wordnet_pos(x))"
   ]
  },
  {
   "cell_type": "code",
   "execution_count": 33,
   "id": "90217b3b",
   "metadata": {},
   "outputs": [],
   "source": [
    "post_df['reshaped_selftext'] = post_df.pos_selftext.apply(lambda x: np.reshape(x,(len(x),1)))"
   ]
  },
  {
   "cell_type": "code",
   "execution_count": 34,
   "id": "6588890c",
   "metadata": {},
   "outputs": [],
   "source": [
    "post_df['reshaped_title'] = post_df.pos_title.apply(lambda x: np.reshape(x,(len(x),1)))"
   ]
  },
  {
   "cell_type": "code",
   "execution_count": 35,
   "id": "8107f34c",
   "metadata": {},
   "outputs": [],
   "source": [
    "post_df['array_selftext'] = post_df.tagged_selftext.apply(lambda x: np.array(x))"
   ]
  },
  {
   "cell_type": "code",
   "execution_count": 36,
   "id": "14052e09",
   "metadata": {},
   "outputs": [],
   "source": [
    "post_df['array_title'] = post_df.tagged_title.apply(lambda x: np.array(x))"
   ]
  },
  {
   "cell_type": "code",
   "execution_count": 37,
   "id": "1a835d9d",
   "metadata": {},
   "outputs": [],
   "source": [
    "post_df['len_selftext'] = post_df.array_selftext.apply(lambda x: len(x))"
   ]
  },
  {
   "cell_type": "code",
   "execution_count": 38,
   "id": "5b464de6",
   "metadata": {},
   "outputs": [],
   "source": [
    "post_df['len_title'] = post_df.array_title.apply(lambda x: len(x))"
   ]
  },
  {
   "cell_type": "code",
   "execution_count": 39,
   "id": "02c52043",
   "metadata": {},
   "outputs": [],
   "source": [
    "post_df = post_df.drop(post_df[post_df.len_selftext == 0].index)"
   ]
  },
  {
   "cell_type": "code",
   "execution_count": 40,
   "id": "aacc2e13",
   "metadata": {},
   "outputs": [],
   "source": [
    "post_df = post_df.drop(post_df[post_df.len_title == 0].index)"
   ]
  },
  {
   "cell_type": "code",
   "execution_count": 41,
   "id": "0986a5a2",
   "metadata": {},
   "outputs": [],
   "source": [
    "post_df['combined_selftext'] = post_df.apply(lambda x: np.append(x['array_selftext'],x['reshaped_selftext'],axis = 1), axis = 1)"
   ]
  },
  {
   "cell_type": "code",
   "execution_count": 42,
   "id": "4b79ebcf",
   "metadata": {},
   "outputs": [],
   "source": [
    "post_df['combined_title'] = post_df.apply(lambda x: np.append(x['array_title'],x['reshaped_title'],axis = 1), axis = 1)"
   ]
  },
  {
   "cell_type": "code",
   "execution_count": 65,
   "id": "fabe5d41",
   "metadata": {},
   "outputs": [
    {
     "data": {
      "text/plain": [
       "numpy.ndarray"
      ]
     },
     "execution_count": 65,
     "metadata": {},
     "output_type": "execute_result"
    }
   ],
   "source": [
    "type(post_df.combined_selftext.iloc[0])"
   ]
  },
  {
   "cell_type": "code",
   "execution_count": 71,
   "id": "6503b4c1",
   "metadata": {},
   "outputs": [],
   "source": [
    "post_df['noun_selftext'] = post_df.combined_selftext.apply(lambda x: [y for y in x if y[1].startswith('N')])"
   ]
  },
  {
   "cell_type": "code",
   "execution_count": 72,
   "id": "e5c4fa97",
   "metadata": {},
   "outputs": [],
   "source": [
    "post_df['adj_selftext'] = post_df.combined_selftext.apply(lambda x: [y for y in x if y[1].startswith('J')])"
   ]
  },
  {
   "cell_type": "code",
   "execution_count": 73,
   "id": "71ef9c31",
   "metadata": {},
   "outputs": [],
   "source": [
    "post_df['verb_selftext'] = post_df.combined_selftext.apply(lambda x: [y for y in x if y[1].startswith('V')])"
   ]
  },
  {
   "cell_type": "code",
   "execution_count": 74,
   "id": "14d7507f",
   "metadata": {},
   "outputs": [],
   "source": [
    "post_df['adv_selftext'] = post_df.combined_selftext.apply(lambda x: [y for y in x if y[1].startswith('R')])"
   ]
  },
  {
   "cell_type": "code",
   "execution_count": 75,
   "id": "9e5413d4",
   "metadata": {},
   "outputs": [],
   "source": [
    "post_df['noun_title'] = post_df.combined_title.apply(lambda x: [y for y in x if y[1].startswith('N')])"
   ]
  },
  {
   "cell_type": "code",
   "execution_count": 76,
   "id": "7992736a",
   "metadata": {},
   "outputs": [],
   "source": [
    "post_df['adj_title'] = post_df.combined_title.apply(lambda x: [y for y in x if y[1].startswith('J')])"
   ]
  },
  {
   "cell_type": "code",
   "execution_count": 77,
   "id": "8558e9ee",
   "metadata": {},
   "outputs": [],
   "source": [
    "post_df['verb_title'] = post_df.combined_title.apply(lambda x: [y for y in x if y[1].startswith('V')])"
   ]
  },
  {
   "cell_type": "code",
   "execution_count": 78,
   "id": "a070c884",
   "metadata": {},
   "outputs": [],
   "source": [
    "post_df['adv_title'] = post_df.combined_title.apply(lambda x: [y for y in x if y[1].startswith('R')])"
   ]
  },
  {
   "cell_type": "code",
   "execution_count": 79,
   "id": "d58d889c",
   "metadata": {},
   "outputs": [
    {
     "name": "stderr",
     "output_type": "stream",
     "text": [
      "[nltk_data] Downloading package wordnet to /Users/maxwood/nltk_data...\n",
      "[nltk_data]   Package wordnet is already up-to-date!\n",
      "[nltk_data] Downloading package omw-1.4 to /Users/maxwood/nltk_data...\n",
      "[nltk_data]   Package omw-1.4 is already up-to-date!\n"
     ]
    }
   ],
   "source": [
    "wnl = nltk.stem.WordNetLemmatizer()\n",
    "nltk.download('wordnet')\n",
    "nltk.download('omw-1.4')\n",
    "  \n",
    "def lemmatize(s):\n",
    "     s = [wnl.lemmatize(word[0], pos = word[2]) for word in s]\n",
    "     return(s)\n",
    "\n",
    "\n"
   ]
  },
  {
   "cell_type": "code",
   "execution_count": 44,
   "id": "2589c510",
   "metadata": {},
   "outputs": [],
   "source": [
    "post_df['lem_title'] = post_df.combined_title.apply(lambda x: lemmatize(x))"
   ]
  },
  {
   "cell_type": "code",
   "execution_count": 45,
   "id": "a4ded362",
   "metadata": {},
   "outputs": [],
   "source": [
    "post_df['lem_selftext'] = post_df.combined_selftext.apply(lambda x: lemmatize(x))"
   ]
  },
  {
   "cell_type": "code",
   "execution_count": 81,
   "id": "a62199bc",
   "metadata": {},
   "outputs": [],
   "source": [
    "post_df['lem_title_noun'] = post_df.noun_title.apply(lambda x: lemmatize(x))"
   ]
  },
  {
   "cell_type": "code",
   "execution_count": 82,
   "id": "5f4f6c44",
   "metadata": {},
   "outputs": [],
   "source": [
    "post_df['lem_title_verb'] = post_df.verb_title.apply(lambda x: lemmatize(x))"
   ]
  },
  {
   "cell_type": "code",
   "execution_count": 83,
   "id": "f06e9e83",
   "metadata": {},
   "outputs": [],
   "source": [
    "post_df['lem_title_adj'] = post_df.adj_title.apply(lambda x: lemmatize(x))"
   ]
  },
  {
   "cell_type": "code",
   "execution_count": 84,
   "id": "3bd95e19",
   "metadata": {},
   "outputs": [],
   "source": [
    "post_df['lem_title_adv'] = post_df.adv_title.apply(lambda x: lemmatize(x))"
   ]
  },
  {
   "cell_type": "code",
   "execution_count": 85,
   "id": "d68139b4",
   "metadata": {},
   "outputs": [],
   "source": [
    "post_df['lem_selftext_noun'] = post_df.noun_selftext.apply(lambda x: lemmatize(x))"
   ]
  },
  {
   "cell_type": "code",
   "execution_count": 87,
   "id": "f39435fb",
   "metadata": {},
   "outputs": [],
   "source": [
    "post_df['lem_selftext_verb'] = post_df.verb_selftext.apply(lambda x: lemmatize(x))"
   ]
  },
  {
   "cell_type": "code",
   "execution_count": 88,
   "id": "02e6e724",
   "metadata": {},
   "outputs": [],
   "source": [
    "post_df['lem_selftext_adj'] = post_df.adj_selftext.apply(lambda x: lemmatize(x))"
   ]
  },
  {
   "cell_type": "code",
   "execution_count": 89,
   "id": "3d99e769",
   "metadata": {},
   "outputs": [],
   "source": [
    "post_df['lem_selftext_adv'] = post_df.adv_selftext.apply(lambda x: lemmatize(x))"
   ]
  },
  {
   "cell_type": "code",
   "execution_count": 46,
   "id": "bab32673",
   "metadata": {},
   "outputs": [],
   "source": [
    "post_df['title_together'] = post_df.lem_title.apply(lambda x: ' '.join(x))"
   ]
  },
  {
   "cell_type": "code",
   "execution_count": 47,
   "id": "5c789d7c",
   "metadata": {},
   "outputs": [],
   "source": [
    "post_df['selftext_together'] = post_df.lem_selftext.apply(lambda x: ' '.join(x))"
   ]
  },
  {
   "cell_type": "code",
   "execution_count": 91,
   "id": "7c5cdbb8",
   "metadata": {},
   "outputs": [],
   "source": [
    "post_df['title_together_noun'] = post_df.lem_title_noun.apply(lambda x: ' '.join(x))"
   ]
  },
  {
   "cell_type": "code",
   "execution_count": 92,
   "id": "3f3f38dd",
   "metadata": {},
   "outputs": [],
   "source": [
    "post_df['title_together_verb'] = post_df.lem_title_verb.apply(lambda x: ' '.join(x))"
   ]
  },
  {
   "cell_type": "code",
   "execution_count": 93,
   "id": "c6992164",
   "metadata": {},
   "outputs": [],
   "source": [
    "post_df['title_together_adj'] = post_df.lem_title_adj.apply(lambda x: ' '.join(x))"
   ]
  },
  {
   "cell_type": "code",
   "execution_count": 94,
   "id": "bc575884",
   "metadata": {},
   "outputs": [],
   "source": [
    "post_df['title_together_adv'] = post_df.lem_title_adv.apply(lambda x: ' '.join(x))"
   ]
  },
  {
   "cell_type": "code",
   "execution_count": 95,
   "id": "527ad673",
   "metadata": {},
   "outputs": [],
   "source": [
    "post_df['selftext_together_noun'] = post_df.lem_selftext_noun.apply(lambda x: ' '.join(x))"
   ]
  },
  {
   "cell_type": "code",
   "execution_count": 96,
   "id": "72a590ea",
   "metadata": {},
   "outputs": [],
   "source": [
    "post_df['selftext_together_verb'] = post_df.lem_selftext_verb.apply(lambda x: ' '.join(x))"
   ]
  },
  {
   "cell_type": "code",
   "execution_count": 97,
   "id": "9212f48d",
   "metadata": {},
   "outputs": [],
   "source": [
    "post_df['selftext_together_adj'] = post_df.lem_selftext_adj.apply(lambda x: ' '.join(x))"
   ]
  },
  {
   "cell_type": "code",
   "execution_count": 98,
   "id": "f373a7e5",
   "metadata": {},
   "outputs": [],
   "source": [
    "post_df['selftext_together_adv'] = post_df.lem_selftext_adv.apply(lambda x: ' '.join(x))"
   ]
  },
  {
   "cell_type": "code",
   "execution_count": null,
   "id": "646929da",
   "metadata": {},
   "outputs": [],
   "source": [
    "#post_df = post_df.drop(columns = [ 'is_digit', 'tagged_title',\n",
    "#       'tagged_selftext', 'pos_title', 'pos_selftext', 'reshaped_selftext',\n",
    "#       'reshaped_title', 'array_selftext', 'array_title', 'len_selftext',\n",
    "#       'len_title'])"
   ]
  },
  {
   "cell_type": "code",
   "execution_count": 99,
   "id": "3dac7a8e",
   "metadata": {},
   "outputs": [],
   "source": [
    "post_df['title_selftext'] = post_df.apply(lambda x: x['title_together']+' '+x['selftext_together'],axis = 1)"
   ]
  },
  {
   "cell_type": "code",
   "execution_count": 100,
   "id": "ccfa664a",
   "metadata": {},
   "outputs": [],
   "source": [
    "post_df['nouns'] = post_df.apply(lambda x: x['title_together_noun']+' '+x['selftext_together_noun'],axis = 1)"
   ]
  },
  {
   "cell_type": "code",
   "execution_count": 101,
   "id": "78ce214f",
   "metadata": {},
   "outputs": [],
   "source": [
    "post_df['verbs'] = post_df.apply(lambda x: x['title_together_verb']+' '+x['selftext_together_verb'],axis = 1)"
   ]
  },
  {
   "cell_type": "code",
   "execution_count": 103,
   "id": "68ee1fd2",
   "metadata": {},
   "outputs": [],
   "source": [
    "post_df['adjs'] = post_df.apply(lambda x: x['title_together_adj']+' '+x['selftext_together_adj'],axis = 1)"
   ]
  },
  {
   "cell_type": "code",
   "execution_count": 104,
   "id": "6f73d32f",
   "metadata": {},
   "outputs": [],
   "source": [
    "post_df['advs'] = post_df.apply(lambda x: x['title_together_adv']+' '+x['selftext_together_adv'],axis = 1)"
   ]
  },
  {
   "cell_type": "code",
   "execution_count": 350,
   "id": "19d67c3b",
   "metadata": {},
   "outputs": [],
   "source": [
    "post_df['nouns_verbs'] = post_df.apply(lambda x: x['nouns']+' '+x['verbs'],axis = 1)"
   ]
  },
  {
   "cell_type": "code",
   "execution_count": 105,
   "id": "719bf3a0",
   "metadata": {},
   "outputs": [
    {
     "data": {
      "image/png": "[encoded data removed]",
      "text/plain": [
       "<Figure size 640x480 with 1 Axes>"
      ]
     },
     "metadata": {},
     "output_type": "display_data"
    }
   ],
   "source": [
    "import seaborn as sns\n",
    "ax = sns.countplot(x = 'year', data = comment_df)\n",
    "ax.set_ylabel('Number of Comments')\n",
    "ax.set_xlabel('Year')\n",
    "plt.show()"
   ]
  },
  {
   "cell_type": "code",
   "execution_count": 106,
   "id": "44058d5b",
   "metadata": {},
   "outputs": [
    {
     "data": {
      "image/png": "[encoded data removed]",
      "text/plain": [
       "<Figure size 640x480 with 1 Axes>"
      ]
     },
     "metadata": {},
     "output_type": "display_data"
    }
   ],
   "source": [
    "import seaborn as sns\n",
    "ax = sns.countplot(x = 'year', data = post_df)\n",
    "ax.set_ylabel('Number of Posts')\n",
    "ax.set_xlabel('Year')\n",
    "plt.show()"
   ]
  },
  {
   "cell_type": "code",
   "execution_count": 107,
   "id": "facae20d",
   "metadata": {},
   "outputs": [
    {
     "data": {
      "text/html": [
       "<div>\n",
       "<style scoped>\n",
       "    .dataframe tbody tr th:only-of-type {\n",
       "        vertical-align: middle;\n",
       "    }\n",
       "\n",
       "    .dataframe tbody tr th {\n",
       "        vertical-align: top;\n",
       "    }\n",
       "\n",
       "    .dataframe thead th {\n",
       "        text-align: right;\n",
       "    }\n",
       "</style>\n",
       "<table border=\"1\" class=\"dataframe\">\n",
       "  <thead>\n",
       "    <tr style=\"text-align: right;\">\n",
       "      <th></th>\n",
       "      <th>author</th>\n",
       "      <th>created</th>\n",
       "      <th>id</th>\n",
       "      <th>url</th>\n",
       "      <th>selftext</th>\n",
       "      <th>title</th>\n",
       "      <th>date_time</th>\n",
       "      <th>year</th>\n",
       "      <th>month</th>\n",
       "      <th>is_digit</th>\n",
       "      <th>...</th>\n",
       "      <th>title_together_adv</th>\n",
       "      <th>selftext_together_noun</th>\n",
       "      <th>selftext_together_verb</th>\n",
       "      <th>selftext_together_adj</th>\n",
       "      <th>selftext_together_adv</th>\n",
       "      <th>title_selftext</th>\n",
       "      <th>nouns</th>\n",
       "      <th>verbs</th>\n",
       "      <th>adjs</th>\n",
       "      <th>advs</th>\n",
       "    </tr>\n",
       "  </thead>\n",
       "  <tbody>\n",
       "    <tr>\n",
       "      <th>6</th>\n",
       "      <td>throwaway3c3</td>\n",
       "      <td>2022-05-05T05:49:41+00:00</td>\n",
       "      <td>t3_uiqlj3</td>\n",
       "      <td>https://old.reddit.com/r/selfimprovement/comme...</td>\n",
       "      <td>Self parenting is something I've learned a bit...</td>\n",
       "      <td>Improving but still hurting</td>\n",
       "      <td>2022-05-05 05:49:41+00:00</td>\n",
       "      <td>2022</td>\n",
       "      <td>5</td>\n",
       "      <td>False</td>\n",
       "      <td>...</td>\n",
       "      <td>still</td>\n",
       "      <td>self something bit dialogue adult self self op...</td>\n",
       "      <td>parent create correct improve believe hurt kno...</td>\n",
       "      <td>learned inner child unacceptable behavior reac...</td>\n",
       "      <td>recently actually otherwise probably well</td>\n",
       "      <td>improve still hurt self parent something learn...</td>\n",
       "      <td>self something bit dialogue adult self self o...</td>\n",
       "      <td>improve hurt parent create correct improve bel...</td>\n",
       "      <td>learned inner child unacceptable behavior rea...</td>\n",
       "      <td>still recently actually otherwise probably well</td>\n",
       "    </tr>\n",
       "    <tr>\n",
       "      <th>18</th>\n",
       "      <td>Efficient-Charity-72</td>\n",
       "      <td>2022-05-05T05:33:30+00:00</td>\n",
       "      <td>t3_uiqcne</td>\n",
       "      <td>https://old.reddit.com/r/selfimprovement/comme...</td>\n",
       "      <td>I'll try and make it short:\\n\\nI moved into an...</td>\n",
       "      <td>Im 24 and i can't get out of my comfort zone, ...</td>\n",
       "      <td>2022-05-05 05:33:30+00:00</td>\n",
       "      <td>2022</td>\n",
       "      <td>5</td>\n",
       "      <td>False</td>\n",
       "      <td>...</td>\n",
       "      <td>maybe</td>\n",
       "      <td>city year get dream job year time music produc...</td>\n",
       "      <td>try make move work leave lonley use connect lo...</td>\n",
       "      <td>short able hard last full small big hard littl...</td>\n",
       "      <td>ago still still really even always always also...</td>\n",
       "      <td>24 cant get comfort zone maybe someone experie...</td>\n",
       "      <td>get comfort zone someone help city year get dr...</td>\n",
       "      <td>experience try make move work leave lonley use...</td>\n",
       "      <td>cant short able hard last full small big hard ...</td>\n",
       "      <td>maybe ago still still really even always alway...</td>\n",
       "    </tr>\n",
       "    <tr>\n",
       "      <th>20</th>\n",
       "      <td>CertifiedShotta</td>\n",
       "      <td>2022-05-05T05:13:46+00:00</td>\n",
       "      <td>t3_uiq1cl</td>\n",
       "      <td>https://old.reddit.com/r/selfimprovement/comme...</td>\n",
       "      <td>First I want to lose weight. I'm 15 and am 265...</td>\n",
       "      <td>my self improvement goals!</td>\n",
       "      <td>2022-05-05 05:13:46+00:00</td>\n",
       "      <td>2022</td>\n",
       "      <td>5</td>\n",
       "      <td>False</td>\n",
       "      <td>...</td>\n",
       "      <td></td>\n",
       "      <td>weight pound day week work eat drink pound por...</td>\n",
       "      <td>want go ruin want go want wan row go</td>\n",
       "      <td>lose tall gym diet next stop confident</td>\n",
       "      <td>first horribly maybe na fap</td>\n",
       "      <td>self improvement goal first want lose weight 1...</td>\n",
       "      <td>self improvement goal weight pound day week wo...</td>\n",
       "      <td>want go ruin want go want wan row go</td>\n",
       "      <td>lose tall gym diet next stop confident</td>\n",
       "      <td>first horribly maybe na fap</td>\n",
       "    </tr>\n",
       "    <tr>\n",
       "      <th>41</th>\n",
       "      <td>silkysugarshower</td>\n",
       "      <td>2022-05-05T04:04:28+00:00</td>\n",
       "      <td>t3_uiox32</td>\n",
       "      <td>https://old.reddit.com/r/selfimprovement/comme...</td>\n",
       "      <td>Hi reddit. I'm sick with covid rn and I've sel...</td>\n",
       "      <td>I have too many aspirations and I'm overthinki...</td>\n",
       "      <td>2022-05-05 04:04:28+00:00</td>\n",
       "      <td>2022</td>\n",
       "      <td>5</td>\n",
       "      <td>False</td>\n",
       "      <td>...</td>\n",
       "      <td></td>\n",
       "      <td>hi reddit covid rn self lot test get foot pass...</td>\n",
       "      <td>reflect try try write wan feel make dance make...</td>\n",
       "      <td>sick reinvent negative na stuck martial cant t...</td>\n",
       "      <td>back obviously even</td>\n",
       "      <td>many aspiration overthinking overwhelm hi redd...</td>\n",
       "      <td>aspiration hi reddit covid rn self lot test ge...</td>\n",
       "      <td>overthinking overwhelm reflect try try write w...</td>\n",
       "      <td>many sick reinvent negative na stuck martial c...</td>\n",
       "      <td>back obviously even</td>\n",
       "    </tr>\n",
       "    <tr>\n",
       "      <th>47</th>\n",
       "      <td>Alive-Doughnut2345</td>\n",
       "      <td>2022-05-05T03:46:20+00:00</td>\n",
       "      <td>t3_uiol3k</td>\n",
       "      <td>https://old.reddit.com/r/selfimprovement/comme...</td>\n",
       "      <td>I want desperately to put in some more work bu...</td>\n",
       "      <td>How do I work towards goals after work when I’...</td>\n",
       "      <td>2022-05-05 03:46:20+00:00</td>\n",
       "      <td>2022</td>\n",
       "      <td>5</td>\n",
       "      <td>False</td>\n",
       "      <td>...</td>\n",
       "      <td></td>\n",
       "      <td>work</td>\n",
       "      <td>want put drain</td>\n",
       "      <td></td>\n",
       "      <td>desperately</td>\n",
       "      <td>work towards goal work demotivated drained tir...</td>\n",
       "      <td>work towards goal sometimes work</td>\n",
       "      <td>work demotivated stress want put drain</td>\n",
       "      <td>drained tired</td>\n",
       "      <td>desperately</td>\n",
       "    </tr>\n",
       "    <tr>\n",
       "      <th>...</th>\n",
       "      <td>...</td>\n",
       "      <td>...</td>\n",
       "      <td>...</td>\n",
       "      <td>...</td>\n",
       "      <td>...</td>\n",
       "      <td>...</td>\n",
       "      <td>...</td>\n",
       "      <td>...</td>\n",
       "      <td>...</td>\n",
       "      <td>...</td>\n",
       "      <td>...</td>\n",
       "      <td>...</td>\n",
       "      <td>...</td>\n",
       "      <td>...</td>\n",
       "      <td>...</td>\n",
       "      <td>...</td>\n",
       "      <td>...</td>\n",
       "      <td>...</td>\n",
       "      <td>...</td>\n",
       "      <td>...</td>\n",
       "      <td>...</td>\n",
       "    </tr>\n",
       "    <tr>\n",
       "      <th>764949</th>\n",
       "      <td>[deleted]</td>\n",
       "      <td>2011-05-25T22:27:18+00:00</td>\n",
       "      <td>t3_hk5r2</td>\n",
       "      <td>https://old.reddit.com/r/selfimprovement/comme...</td>\n",
       "      <td>I had an appointment today with the dentist. O...</td>\n",
       "      <td>What cures absentmindedness?</td>\n",
       "      <td>2011-05-25 22:27:18+00:00</td>\n",
       "      <td>2011</td>\n",
       "      <td>5</td>\n",
       "      <td>False</td>\n",
       "      <td>...</td>\n",
       "      <td></td>\n",
       "      <td>appointment today dentist week email reminder ...</td>\n",
       "      <td>get call mark go &gt; make happen</td>\n",
       "      <td>last reminder forgot &lt; sure</td>\n",
       "      <td>still completely never</td>\n",
       "      <td>cure absentmindedness appointment today dentis...</td>\n",
       "      <td>cure appointment today dentist week email remi...</td>\n",
       "      <td>absentmindedness get call mark go &gt; make happen</td>\n",
       "      <td>last reminder forgot &lt; sure</td>\n",
       "      <td>still completely never</td>\n",
       "    </tr>\n",
       "    <tr>\n",
       "      <th>765029</th>\n",
       "      <td>mike-l</td>\n",
       "      <td>2009-11-11T07:05:38+00:00</td>\n",
       "      <td>t3_a35f5</td>\n",
       "      <td>https://old.reddit.com/r/selfimprovement/comme...</td>\n",
       "      <td>Trailer for an amazing book published decades ...</td>\n",
       "      <td>Flight of the Feathered Serpent Book Trailer</td>\n",
       "      <td>2009-11-11 07:05:38+00:00</td>\n",
       "      <td>2009</td>\n",
       "      <td>11</td>\n",
       "      <td>False</td>\n",
       "      <td>...</td>\n",
       "      <td></td>\n",
       "      <td>trailer book decade knowledge firsthand accoun...</td>\n",
       "      <td>amaze publish relate</td>\n",
       "      <td>gospel judas public</td>\n",
       "      <td></td>\n",
       "      <td>flight feather serpent book trailer trailer am...</td>\n",
       "      <td>flight book trailer trailer book decade knowle...</td>\n",
       "      <td>feather amaze publish relate</td>\n",
       "      <td>serpent gospel judas public</td>\n",
       "      <td></td>\n",
       "    </tr>\n",
       "    <tr>\n",
       "      <th>765075</th>\n",
       "      <td>hivetyrant</td>\n",
       "      <td>2009-08-05T02:37:13+00:00</td>\n",
       "      <td>t3_97m4m</td>\n",
       "      <td>https://old.reddit.com/r/selfimprovement/comme...</td>\n",
       "      <td>Do you have a strong voice, or a well-built fr...</td>\n",
       "      <td>Self Confidence: The Strength We All Have</td>\n",
       "      <td>2009-08-05 02:37:13+00:00</td>\n",
       "      <td>2009</td>\n",
       "      <td>8</td>\n",
       "      <td>False</td>\n",
       "      <td>...</td>\n",
       "      <td></td>\n",
       "      <td>voice wellbuilt frame ton ton cash there chanc...</td>\n",
       "      <td>get say</td>\n",
       "      <td>strong good</td>\n",
       "      <td></td>\n",
       "      <td>self confidence strength strong voice wellbuil...</td>\n",
       "      <td>self confidence strength voice wellbuilt frame...</td>\n",
       "      <td>get say</td>\n",
       "      <td>strong good</td>\n",
       "      <td></td>\n",
       "    </tr>\n",
       "    <tr>\n",
       "      <th>765118</th>\n",
       "      <td>thenewhustle</td>\n",
       "      <td>2009-06-28T11:30:56+00:00</td>\n",
       "      <td>t3_8wd8w</td>\n",
       "      <td>https://old.reddit.com/r/selfimprovement/comme...</td>\n",
       "      <td>A very powerful message on how to get back up ...</td>\n",
       "      <td>How To Embrace Failure To Empower Your Future</td>\n",
       "      <td>2009-06-28 11:30:56+00:00</td>\n",
       "      <td>2009</td>\n",
       "      <td>6</td>\n",
       "      <td>False</td>\n",
       "      <td>...</td>\n",
       "      <td></td>\n",
       "      <td>message move failure</td>\n",
       "      <td>get</td>\n",
       "      <td>powerful</td>\n",
       "      <td>back</td>\n",
       "      <td>embrace failure empower future powerful messag...</td>\n",
       "      <td>embrace failure future message move failure</td>\n",
       "      <td>empower get</td>\n",
       "      <td>powerful</td>\n",
       "      <td>back</td>\n",
       "    </tr>\n",
       "    <tr>\n",
       "      <th>765120</th>\n",
       "      <td>thenewhustle</td>\n",
       "      <td>2009-06-27T12:48:29+00:00</td>\n",
       "      <td>t3_8w6db</td>\n",
       "      <td>https://old.reddit.com/r/selfimprovement/comme...</td>\n",
       "      <td>The Master Key System\\nAs a Man Thinketh\\nThe ...</td>\n",
       "      <td>Free Ebooks</td>\n",
       "      <td>2009-06-27 12:48:29+00:00</td>\n",
       "      <td>2009</td>\n",
       "      <td>6</td>\n",
       "      <td>False</td>\n",
       "      <td>...</td>\n",
       "      <td></td>\n",
       "      <td>master key system man science</td>\n",
       "      <td>thinketh get</td>\n",
       "      <td>rich</td>\n",
       "      <td></td>\n",
       "      <td>free ebooks master key system man thinketh sci...</td>\n",
       "      <td>ebooks master key system man science</td>\n",
       "      <td>thinketh get</td>\n",
       "      <td>free rich</td>\n",
       "      <td></td>\n",
       "    </tr>\n",
       "  </tbody>\n",
       "</table>\n",
       "<p>77615 rows × 62 columns</p>\n",
       "</div>"
      ],
      "text/plain": [
       "                      author                    created         id  \\\n",
       "6               throwaway3c3  2022-05-05T05:49:41+00:00  t3_uiqlj3   \n",
       "18      Efficient-Charity-72  2022-05-05T05:33:30+00:00  t3_uiqcne   \n",
       "20           CertifiedShotta  2022-05-05T05:13:46+00:00  t3_uiq1cl   \n",
       "41          silkysugarshower  2022-05-05T04:04:28+00:00  t3_uiox32   \n",
       "47        Alive-Doughnut2345  2022-05-05T03:46:20+00:00  t3_uiol3k   \n",
       "...                      ...                        ...        ...   \n",
       "764949             [deleted]  2011-05-25T22:27:18+00:00   t3_hk5r2   \n",
       "765029                mike-l  2009-11-11T07:05:38+00:00   t3_a35f5   \n",
       "765075            hivetyrant  2009-08-05T02:37:13+00:00   t3_97m4m   \n",
       "765118          thenewhustle  2009-06-28T11:30:56+00:00   t3_8wd8w   \n",
       "765120          thenewhustle  2009-06-27T12:48:29+00:00   t3_8w6db   \n",
       "\n",
       "                                                      url  \\\n",
       "6       https://old.reddit.com/r/selfimprovement/comme...   \n",
       "18      https://old.reddit.com/r/selfimprovement/comme...   \n",
       "20      https://old.reddit.com/r/selfimprovement/comme...   \n",
       "41      https://old.reddit.com/r/selfimprovement/comme...   \n",
       "47      https://old.reddit.com/r/selfimprovement/comme...   \n",
       "...                                                   ...   \n",
       "764949  https://old.reddit.com/r/selfimprovement/comme...   \n",
       "765029  https://old.reddit.com/r/selfimprovement/comme...   \n",
       "765075  https://old.reddit.com/r/selfimprovement/comme...   \n",
       "765118  https://old.reddit.com/r/selfimprovement/comme...   \n",
       "765120  https://old.reddit.com/r/selfimprovement/comme...   \n",
       "\n",
       "                                                 selftext  \\\n",
       "6       Self parenting is something I've learned a bit...   \n",
       "18      I'll try and make it short:\\n\\nI moved into an...   \n",
       "20      First I want to lose weight. I'm 15 and am 265...   \n",
       "41      Hi reddit. I'm sick with covid rn and I've sel...   \n",
       "47      I want desperately to put in some more work bu...   \n",
       "...                                                   ...   \n",
       "764949  I had an appointment today with the dentist. O...   \n",
       "765029  Trailer for an amazing book published decades ...   \n",
       "765075  Do you have a strong voice, or a well-built fr...   \n",
       "765118  A very powerful message on how to get back up ...   \n",
       "765120  The Master Key System\\nAs a Man Thinketh\\nThe ...   \n",
       "\n",
       "                                                    title  \\\n",
       "6                             Improving but still hurting   \n",
       "18      Im 24 and i can't get out of my comfort zone, ...   \n",
       "20                             my self improvement goals!   \n",
       "41      I have too many aspirations and I'm overthinki...   \n",
       "47      How do I work towards goals after work when I’...   \n",
       "...                                                   ...   \n",
       "764949                       What cures absentmindedness?   \n",
       "765029       Flight of the Feathered Serpent Book Trailer   \n",
       "765075          Self Confidence: The Strength We All Have   \n",
       "765118      How To Embrace Failure To Empower Your Future   \n",
       "765120                                        Free Ebooks   \n",
       "\n",
       "                       date_time  year  month  is_digit  ...  \\\n",
       "6      2022-05-05 05:49:41+00:00  2022      5     False  ...   \n",
       "18     2022-05-05 05:33:30+00:00  2022      5     False  ...   \n",
       "20     2022-05-05 05:13:46+00:00  2022      5     False  ...   \n",
       "41     2022-05-05 04:04:28+00:00  2022      5     False  ...   \n",
       "47     2022-05-05 03:46:20+00:00  2022      5     False  ...   \n",
       "...                          ...   ...    ...       ...  ...   \n",
       "764949 2011-05-25 22:27:18+00:00  2011      5     False  ...   \n",
       "765029 2009-11-11 07:05:38+00:00  2009     11     False  ...   \n",
       "765075 2009-08-05 02:37:13+00:00  2009      8     False  ...   \n",
       "765118 2009-06-28 11:30:56+00:00  2009      6     False  ...   \n",
       "765120 2009-06-27 12:48:29+00:00  2009      6     False  ...   \n",
       "\n",
       "       title_together_adv                             selftext_together_noun  \\\n",
       "6                   still  self something bit dialogue adult self self op...   \n",
       "18                  maybe  city year get dream job year time music produc...   \n",
       "20                         weight pound day week work eat drink pound por...   \n",
       "41                         hi reddit covid rn self lot test get foot pass...   \n",
       "47                                                                      work   \n",
       "...                   ...                                                ...   \n",
       "764949                     appointment today dentist week email reminder ...   \n",
       "765029                     trailer book decade knowledge firsthand accoun...   \n",
       "765075                     voice wellbuilt frame ton ton cash there chanc...   \n",
       "765118                                                  message move failure   \n",
       "765120                                         master key system man science   \n",
       "\n",
       "                                   selftext_together_verb  \\\n",
       "6       parent create correct improve believe hurt kno...   \n",
       "18      try make move work leave lonley use connect lo...   \n",
       "20                   want go ruin want go want wan row go   \n",
       "41      reflect try try write wan feel make dance make...   \n",
       "47                                         want put drain   \n",
       "...                                                   ...   \n",
       "764949                     get call mark go > make happen   \n",
       "765029                               amaze publish relate   \n",
       "765075                                            get say   \n",
       "765118                                                get   \n",
       "765120                                       thinketh get   \n",
       "\n",
       "                                    selftext_together_adj  \\\n",
       "6       learned inner child unacceptable behavior reac...   \n",
       "18      short able hard last full small big hard littl...   \n",
       "20                 lose tall gym diet next stop confident   \n",
       "41      sick reinvent negative na stuck martial cant t...   \n",
       "47                                                          \n",
       "...                                                   ...   \n",
       "764949                        last reminder forgot < sure   \n",
       "765029                                gospel judas public   \n",
       "765075                                        strong good   \n",
       "765118                                           powerful   \n",
       "765120                                               rich   \n",
       "\n",
       "                                    selftext_together_adv  \\\n",
       "6               recently actually otherwise probably well   \n",
       "18      ago still still really even always always also...   \n",
       "20                            first horribly maybe na fap   \n",
       "41                                    back obviously even   \n",
       "47                                            desperately   \n",
       "...                                                   ...   \n",
       "764949                             still completely never   \n",
       "765029                                                      \n",
       "765075                                                      \n",
       "765118                                               back   \n",
       "765120                                                      \n",
       "\n",
       "                                           title_selftext  \\\n",
       "6       improve still hurt self parent something learn...   \n",
       "18      24 cant get comfort zone maybe someone experie...   \n",
       "20      self improvement goal first want lose weight 1...   \n",
       "41      many aspiration overthinking overwhelm hi redd...   \n",
       "47      work towards goal work demotivated drained tir...   \n",
       "...                                                   ...   \n",
       "764949  cure absentmindedness appointment today dentis...   \n",
       "765029  flight feather serpent book trailer trailer am...   \n",
       "765075  self confidence strength strong voice wellbuil...   \n",
       "765118  embrace failure empower future powerful messag...   \n",
       "765120  free ebooks master key system man thinketh sci...   \n",
       "\n",
       "                                                    nouns  \\\n",
       "6        self something bit dialogue adult self self o...   \n",
       "18      get comfort zone someone help city year get dr...   \n",
       "20      self improvement goal weight pound day week wo...   \n",
       "41      aspiration hi reddit covid rn self lot test ge...   \n",
       "47                       work towards goal sometimes work   \n",
       "...                                                   ...   \n",
       "764949  cure appointment today dentist week email remi...   \n",
       "765029  flight book trailer trailer book decade knowle...   \n",
       "765075  self confidence strength voice wellbuilt frame...   \n",
       "765118        embrace failure future message move failure   \n",
       "765120               ebooks master key system man science   \n",
       "\n",
       "                                                    verbs  \\\n",
       "6       improve hurt parent create correct improve bel...   \n",
       "18      experience try make move work leave lonley use...   \n",
       "20                   want go ruin want go want wan row go   \n",
       "41      overthinking overwhelm reflect try try write w...   \n",
       "47                 work demotivated stress want put drain   \n",
       "...                                                   ...   \n",
       "764949    absentmindedness get call mark go > make happen   \n",
       "765029                       feather amaze publish relate   \n",
       "765075                                            get say   \n",
       "765118                                        empower get   \n",
       "765120                                       thinketh get   \n",
       "\n",
       "                                                     adjs  \\\n",
       "6        learned inner child unacceptable behavior rea...   \n",
       "18      cant short able hard last full small big hard ...   \n",
       "20                 lose tall gym diet next stop confident   \n",
       "41      many sick reinvent negative na stuck martial c...   \n",
       "47                                         drained tired    \n",
       "...                                                   ...   \n",
       "764949                        last reminder forgot < sure   \n",
       "765029                        serpent gospel judas public   \n",
       "765075                                        strong good   \n",
       "765118                                           powerful   \n",
       "765120                                          free rich   \n",
       "\n",
       "                                                     advs  \n",
       "6         still recently actually otherwise probably well  \n",
       "18      maybe ago still still really even always alway...  \n",
       "20                            first horribly maybe na fap  \n",
       "41                                    back obviously even  \n",
       "47                                            desperately  \n",
       "...                                                   ...  \n",
       "764949                             still completely never  \n",
       "765029                                                     \n",
       "765075                                                     \n",
       "765118                                               back  \n",
       "765120                                                     \n",
       "\n",
       "[77615 rows x 62 columns]"
      ]
     },
     "execution_count": 107,
     "metadata": {},
     "output_type": "execute_result"
    }
   ],
   "source": [
    "post_df"
   ]
  },
  {
   "cell_type": "code",
   "execution_count": 284,
   "id": "de95f3fb",
   "metadata": {},
   "outputs": [],
   "source": [
    "#post_df.to_pickle(\"./posts_df.pkl\")"
   ]
  },
  {
   "cell_type": "code",
   "execution_count": null,
   "id": "4fd50153",
   "metadata": {},
   "outputs": [],
   "source": [
    "#post_df = pd.read_pickle(\"./posts_df.pkl\")  "
   ]
  },
  {
   "cell_type": "markdown",
   "id": "90e77995",
   "metadata": {},
   "source": [
    "# Begin Modeling Section"
   ]
  },
  {
   "cell_type": "markdown",
   "id": "c49f3a99",
   "metadata": {},
   "source": [
    "## LSA model"
   ]
  },
  {
   "cell_type": "code",
   "execution_count": 137,
   "id": "a788e70d",
   "metadata": {},
   "outputs": [],
   "source": [
    "from sklearn.feature_extraction.text import TfidfVectorizer, CountVectorizer\n",
    "\n",
    "docs = post_df.title_selftext\n",
    "#vec = CountVectorizer(min_df = .05)\n",
    "vec = TfidfVectorizer(min_df = .05)\n",
    "doc_term = vec.fit_transform(docs)"
   ]
  },
  {
   "cell_type": "code",
   "execution_count": 138,
   "id": "f4ac7adc",
   "metadata": {},
   "outputs": [
    {
     "data": {
      "text/plain": [
       "TruncatedSVD(n_components=5)"
      ]
     },
     "execution_count": 138,
     "metadata": {},
     "output_type": "execute_result"
    }
   ],
   "source": [
    "from sklearn.decomposition import TruncatedSVD\n",
    "\n",
    "lsa = TruncatedSVD(5)\n",
    "lsa.fit(doc_term)"
   ]
  },
  {
   "cell_type": "code",
   "execution_count": 139,
   "id": "16c665ca",
   "metadata": {},
   "outputs": [],
   "source": [
    "terms = list(vec.vocabulary_.keys())"
   ]
  },
  {
   "cell_type": "code",
   "execution_count": 140,
   "id": "6489a11d",
   "metadata": {},
   "outputs": [],
   "source": [
    "def get_top_terms(topic_index, n_terms, model=lsa, terms=terms):\n",
    "    \n",
    "    # get the topic components (i.e., term weights)\n",
    "    H = model.components_\n",
    "    H[topic_index]\n",
    "    \n",
    "    # get term indices, sorted (descending) by topic weights\n",
    "    indices = np.argsort(H[topic_index])[::-1][:n_terms]\n",
    "    \n",
    "    # use the `terms` array to get the actual top terms\n",
    "    topics = []\n",
    "    for i in indices:\n",
    "        topics.append(terms[i])\n",
    "    \n",
    "    return (topics)"
   ]
  },
  {
   "cell_type": "code",
   "execution_count": 143,
   "id": "3165396a",
   "metadata": {},
   "outputs": [
    {
     "data": {
      "text/plain": [
       "['part',\n",
       " 'college',\n",
       " 'interest',\n",
       " 'past',\n",
       " 'would',\n",
       " 'head',\n",
       " 'health',\n",
       " 'person',\n",
       " 'guy',\n",
       " 'begin']"
      ]
     },
     "execution_count": 143,
     "metadata": {},
     "output_type": "execute_result"
    }
   ],
   "source": [
    "get_top_terms(2,10)"
   ]
  },
  {
   "cell_type": "markdown",
   "id": "f59a07a8",
   "metadata": {},
   "source": [
    "## LSA nouns"
   ]
  },
  {
   "cell_type": "code",
   "execution_count": 144,
   "id": "125b2748",
   "metadata": {},
   "outputs": [],
   "source": [
    "from sklearn.feature_extraction.text import TfidfVectorizer, CountVectorizer\n",
    "\n",
    "docs = post_df.nouns\n",
    "vec = CountVectorizer(min_df = .05)\n",
    "#vec = TfidfVectorizer(min_df = .05)\n",
    "doc_term = vec.fit_transform(docs)"
   ]
  },
  {
   "cell_type": "code",
   "execution_count": 145,
   "id": "dc1b0e79",
   "metadata": {},
   "outputs": [
    {
     "data": {
      "text/plain": [
       "TruncatedSVD(n_components=5)"
      ]
     },
     "execution_count": 145,
     "metadata": {},
     "output_type": "execute_result"
    }
   ],
   "source": [
    "from sklearn.decomposition import TruncatedSVD\n",
    "\n",
    "lsa = TruncatedSVD(5)\n",
    "lsa.fit(doc_term)"
   ]
  },
  {
   "cell_type": "code",
   "execution_count": 146,
   "id": "72596861",
   "metadata": {},
   "outputs": [],
   "source": [
    "terms = list(vec.vocabulary_.keys())"
   ]
  },
  {
   "cell_type": "code",
   "execution_count": 147,
   "id": "d1039453",
   "metadata": {},
   "outputs": [],
   "source": [
    "def get_top_terms(topic_index, n_terms, model=lsa, terms=terms):\n",
    "    \n",
    "    # get the topic components (i.e., term weights)\n",
    "    H = model.components_\n",
    "    H[topic_index]\n",
    "    \n",
    "    # get term indices, sorted (descending) by topic weights\n",
    "    indices = np.argsort(H[topic_index])[::-1][:n_terms]\n",
    "    \n",
    "    # use the `terms` array to get the actual top terms\n",
    "    topics = []\n",
    "    for i in indices:\n",
    "        topics.append(terms[i])\n",
    "    \n",
    "    return (topics)"
   ]
  },
  {
   "cell_type": "code",
   "execution_count": 151,
   "id": "7787f013",
   "metadata": {},
   "outputs": [
    {
     "data": {
      "text/plain": [
       "['get',\n",
       " 'class',\n",
       " 'person',\n",
       " 'goal',\n",
       " 'guy',\n",
       " 'please',\n",
       " 'try',\n",
       " 'health',\n",
       " 'lot',\n",
       " 'month']"
      ]
     },
     "execution_count": 151,
     "metadata": {},
     "output_type": "execute_result"
    }
   ],
   "source": [
    "get_top_terms(3,10)"
   ]
  },
  {
   "cell_type": "markdown",
   "id": "b0909a48",
   "metadata": {},
   "source": [
    "## NMF model"
   ]
  },
  {
   "cell_type": "code",
   "execution_count": 152,
   "id": "31e500dd",
   "metadata": {},
   "outputs": [],
   "source": [
    "remove = ['na','url','improve']"
   ]
  },
  {
   "cell_type": "code",
   "execution_count": 153,
   "id": "a1077de3",
   "metadata": {},
   "outputs": [],
   "source": [
    "from sklearn.feature_extraction.text import TfidfVectorizer, CountVectorizer\n",
    "\n",
    "docs = post_df.title_selftext\n",
    "#vec = CountVectorizer(min_df = .05, max_df = .9)\n",
    "vec = TfidfVectorizer(min_df = .05, max_df = .9, stop_words = remove)\n",
    "doc_term = vec.fit_transform(docs)"
   ]
  },
  {
   "cell_type": "code",
   "execution_count": 154,
   "id": "5d64afa1",
   "metadata": {},
   "outputs": [],
   "source": [
    "terms = list(vec.vocabulary_.keys())"
   ]
  },
  {
   "cell_type": "code",
   "execution_count": 155,
   "id": "c725581e",
   "metadata": {},
   "outputs": [
    {
     "name": "stderr",
     "output_type": "stream",
     "text": [
      "/Users/maxwood/opt/miniconda3/envs/metis/lib/python3.7/site-packages/sklearn/decomposition/_nmf.py:294: FutureWarning: The 'init' value, when 'init=None' and n_components is less than n_samples and n_features, will be changed from 'nndsvd' to 'nndsvda' in 1.1 (renaming of 0.26).\n",
      "  FutureWarning,\n",
      "/Users/maxwood/opt/miniconda3/envs/metis/lib/python3.7/site-packages/sklearn/decomposition/_nmf.py:1641: ConvergenceWarning: Maximum number of iterations 200 reached. Increase it to improve convergence.\n",
      "  ConvergenceWarning,\n"
     ]
    }
   ],
   "source": [
    "from sklearn.decomposition import NMF\n",
    "\n",
    "nmf = NMF(n_components=25)\n",
    "doc_topic = nmf.fit_transform(doc_term)"
   ]
  },
  {
   "cell_type": "code",
   "execution_count": 158,
   "id": "6e3a887b",
   "metadata": {},
   "outputs": [],
   "source": [
    "def get_top_terms(topic_index, n_terms, model=nmf, terms=terms):\n",
    "    \n",
    "    # get the topic components (i.e., term weights)\n",
    "    H = model.components_\n",
    "    H[topic_index]\n",
    "    \n",
    "    # get term indices, sorted (descending) by topic weights\n",
    "    indices = np.argsort(H[topic_index])[::-1][:n_terms]\n",
    "    \n",
    "    # use the `terms` array to get the actual top terms\n",
    "    topics = []\n",
    "    for i in indices:\n",
    "        topics.append(terms[i])\n",
    "    \n",
    "    return (topics)"
   ]
  },
  {
   "cell_type": "code",
   "execution_count": 286,
   "id": "bbc94f85",
   "metadata": {},
   "outputs": [
    {
     "data": {
      "text/plain": [
       "['get',\n",
       " 'hour',\n",
       " 'anyone',\n",
       " 'body',\n",
       " 'thought',\n",
       " 'end',\n",
       " 'post',\n",
       " 'life',\n",
       " 'anxiety',\n",
       " 'point']"
      ]
     },
     "execution_count": 286,
     "metadata": {},
     "output_type": "execute_result"
    }
   ],
   "source": [
    "get_top_terms(4,10)"
   ]
  },
  {
   "cell_type": "markdown",
   "id": "8cfc4a90",
   "metadata": {},
   "source": [
    "## NMF nouns"
   ]
  },
  {
   "cell_type": "code",
   "execution_count": 457,
   "id": "207ef532",
   "metadata": {},
   "outputs": [],
   "source": [
    "from sklearn.feature_extraction.text import TfidfVectorizer, CountVectorizer\n",
    "\n",
    "docs = post_df.nouns_verbs\n",
    "#vec = CountVectorizer(min_df = .05, max_df = .9)\n",
    "vec = TfidfVectorizer(min_df = .05, max_df = .9)\n",
    "doc_term = vec.fit_transform(docs)"
   ]
  },
  {
   "cell_type": "code",
   "execution_count": 458,
   "id": "b065d3ac",
   "metadata": {},
   "outputs": [],
   "source": [
    "terms = list(vec.vocabulary_.keys())"
   ]
  },
  {
   "cell_type": "code",
   "execution_count": 459,
   "id": "6c111de8",
   "metadata": {},
   "outputs": [],
   "source": [
    "from sklearn.decomposition import NMF\n",
    "\n",
    "nmf = NMF(n_components=2)\n",
    "doc_topic = nmf.fit_transform(doc_term)"
   ]
  },
  {
   "cell_type": "code",
   "execution_count": 460,
   "id": "007a009a",
   "metadata": {},
   "outputs": [],
   "source": [
    "def get_top_terms(topic_index, n_terms, model=nmf, terms=terms):\n",
    "    \n",
    "    # get the topic components (i.e., term weights)\n",
    "    H = model.components_\n",
    "    H[topic_index]\n",
    "    \n",
    "    # get term indices, sorted (descending) by topic weights\n",
    "    indices = np.argsort(H[topic_index])[::-1][:n_terms]\n",
    "    \n",
    "    # use the `terms` array to get the actual top terms\n",
    "    topics = []\n",
    "    for i in indices:\n",
    "        topics.append(terms[i])\n",
    "    \n",
    "    return (topics)"
   ]
  },
  {
   "cell_type": "code",
   "execution_count": 464,
   "id": "a23e990f",
   "metadata": {},
   "outputs": [
    {
     "data": {
      "text/plain": [
       "['think',\n",
       " 'idea',\n",
       " 'year',\n",
       " 'week',\n",
       " 'share',\n",
       " 'person',\n",
       " 'show',\n",
       " 'others',\n",
       " 'moment',\n",
       " 'book']"
      ]
     },
     "execution_count": 464,
     "metadata": {},
     "output_type": "execute_result"
    }
   ],
   "source": [
    "get_top_terms(0,10)"
   ]
  },
  {
   "cell_type": "code",
   "execution_count": null,
   "id": "324a7b8c",
   "metadata": {},
   "outputs": [],
   "source": [
    "nmf"
   ]
  },
  {
   "cell_type": "markdown",
   "id": "85ed2289",
   "metadata": {},
   "source": [
    "## LDA model"
   ]
  },
  {
   "cell_type": "code",
   "execution_count": 410,
   "id": "77caa379",
   "metadata": {},
   "outputs": [],
   "source": [
    "consider_removing = ['like','feel','goal','think',\n",
    "                     'life','improve','selfimprovement',\n",
    "                     'thing','want','make','would','get',\n",
    "                     'become','improvement','good','na',\n",
    "                     'need','change','find','something',\n",
    "                     'even','people','go','url']"
   ]
  },
  {
   "cell_type": "code",
   "execution_count": 540,
   "id": "347b7ad4",
   "metadata": {},
   "outputs": [
    {
     "ename": "NameError",
     "evalue": "name 'simple_preprocess' is not defined",
     "output_type": "error",
     "traceback": [
      "\u001b[0;31m---------------------------------------------------------------------------\u001b[0m",
      "\u001b[0;31mNameError\u001b[0m                                 Traceback (most recent call last)",
      "\u001b[0;32m<ipython-input-540-a906a7e86fc9>\u001b[0m in \u001b[0;36m<module>\u001b[0;34m\u001b[0m\n\u001b[1;32m      6\u001b[0m \u001b[0mdocs\u001b[0m \u001b[0;34m=\u001b[0m \u001b[0mpost_df\u001b[0m\u001b[0;34m.\u001b[0m\u001b[0mtitle_selftext\u001b[0m\u001b[0;34m\u001b[0m\u001b[0;34m\u001b[0m\u001b[0m\n\u001b[1;32m      7\u001b[0m \u001b[0;34m\u001b[0m\u001b[0m\n\u001b[0;32m----> 8\u001b[0;31m \u001b[0mdoc_tokenized\u001b[0m \u001b[0;34m=\u001b[0m \u001b[0;34m[\u001b[0m\u001b[0msimple_preprocess\u001b[0m\u001b[0;34m(\u001b[0m\u001b[0mdoc\u001b[0m\u001b[0;34m)\u001b[0m \u001b[0;32mfor\u001b[0m \u001b[0mdoc\u001b[0m \u001b[0;32min\u001b[0m \u001b[0mdocs\u001b[0m\u001b[0;34m]\u001b[0m\u001b[0;34m\u001b[0m\u001b[0;34m\u001b[0m\u001b[0m\n\u001b[0m\u001b[1;32m      9\u001b[0m \u001b[0;31m#vectorizer = CountVectorizer(stop_words = consider_removing)\u001b[0m\u001b[0;34m\u001b[0m\u001b[0;34m\u001b[0m\u001b[0;34m\u001b[0m\u001b[0m\n\u001b[1;32m     10\u001b[0m \u001b[0;31m#vectorizer = CountVectorizer(min_df = .05, max_df = .95)\u001b[0m\u001b[0;34m\u001b[0m\u001b[0;34m\u001b[0m\u001b[0;34m\u001b[0m\u001b[0m\n",
      "\u001b[0;32m<ipython-input-540-a906a7e86fc9>\u001b[0m in \u001b[0;36m<listcomp>\u001b[0;34m(.0)\u001b[0m\n\u001b[1;32m      6\u001b[0m \u001b[0mdocs\u001b[0m \u001b[0;34m=\u001b[0m \u001b[0mpost_df\u001b[0m\u001b[0;34m.\u001b[0m\u001b[0mtitle_selftext\u001b[0m\u001b[0;34m\u001b[0m\u001b[0;34m\u001b[0m\u001b[0m\n\u001b[1;32m      7\u001b[0m \u001b[0;34m\u001b[0m\u001b[0m\n\u001b[0;32m----> 8\u001b[0;31m \u001b[0mdoc_tokenized\u001b[0m \u001b[0;34m=\u001b[0m \u001b[0;34m[\u001b[0m\u001b[0msimple_preprocess\u001b[0m\u001b[0;34m(\u001b[0m\u001b[0mdoc\u001b[0m\u001b[0;34m)\u001b[0m \u001b[0;32mfor\u001b[0m \u001b[0mdoc\u001b[0m \u001b[0;32min\u001b[0m \u001b[0mdocs\u001b[0m\u001b[0;34m]\u001b[0m\u001b[0;34m\u001b[0m\u001b[0;34m\u001b[0m\u001b[0m\n\u001b[0m\u001b[1;32m      9\u001b[0m \u001b[0;31m#vectorizer = CountVectorizer(stop_words = consider_removing)\u001b[0m\u001b[0;34m\u001b[0m\u001b[0;34m\u001b[0m\u001b[0;34m\u001b[0m\u001b[0m\n\u001b[1;32m     10\u001b[0m \u001b[0;31m#vectorizer = CountVectorizer(min_df = .05, max_df = .95)\u001b[0m\u001b[0;34m\u001b[0m\u001b[0;34m\u001b[0m\u001b[0;34m\u001b[0m\u001b[0m\n",
      "\u001b[0;31mNameError\u001b[0m: name 'simple_preprocess' is not defined"
     ]
    }
   ],
   "source": [
    "from sklearn.feature_extraction.text import CountVectorizer\n",
    "from gensim import corpora, models, matutils\n",
    "\n",
    "\n",
    "\n",
    "docs = post_df.title_selftext\n",
    "\n",
    "\n",
    "#vectorizer = CountVectorizer(stop_words = consider_removing)\n",
    "#vectorizer = CountVectorizer(min_df = .05, max_df = .95)\n",
    "vectorizer = TfidfVectorizer(min_df = .05, max_df = .60, stop_words = consider_removing)\n",
    "\n",
    "term_doc_matrix = vectorizer.fit_transform(docs).transpose()"
   ]
  },
  {
   "cell_type": "code",
   "execution_count": 478,
   "id": "eea5e9a8",
   "metadata": {},
   "outputs": [],
   "source": [
    "corpus = matutils.Sparse2Corpus(term_doc_matrix)\n",
    "id2word = dict((v,k) for k, v in vectorizer.vocabulary_.items())\n",
    "lda = models.LdaModel(corpus = corpus, num_topics = 10, id2word = id2word, random_state = 21)"
   ]
  },
  {
   "cell_type": "code",
   "execution_count": 479,
   "id": "7265b9b2",
   "metadata": {},
   "outputs": [],
   "source": [
    "topics = lda.print_topics()"
   ]
  },
  {
   "cell_type": "code",
   "execution_count": 480,
   "id": "cf080d54",
   "metadata": {},
   "outputs": [
    {
     "data": {
      "text/plain": [
       "(0,\n",
       " '0.029*\"help\" + 0.023*\"tip\" + 0.020*\"advice\" + 0.019*\"anyone\" + 0.017*\"guy\" + 0.016*\"really\" + 0.016*\"thanks\" + 0.016*\"study\" + 0.016*\"know\" + 0.013*\"work\"')"
      ]
     },
     "execution_count": 480,
     "metadata": {},
     "output_type": "execute_result"
    }
   ],
   "source": [
    "topics[0]"
   ]
  },
  {
   "cell_type": "code",
   "execution_count": 481,
   "id": "deb22ebc",
   "metadata": {},
   "outputs": [
    {
     "data": {
      "text/plain": [
       "(1,\n",
       " '0.024*\"girl\" + 0.020*\"talk\" + 0.017*\"know\" + 0.017*\"say\" + 0.015*\"fuck\" + 0.014*\"really\" + 0.014*\"friend\" + 0.013*\"hate\" + 0.013*\"guy\" + 0.012*\"tell\"')"
      ]
     },
     "execution_count": 481,
     "metadata": {},
     "output_type": "execute_result"
    }
   ],
   "source": [
    "topics[1]"
   ]
  },
  {
   "cell_type": "code",
   "execution_count": 482,
   "id": "e54dc7a4",
   "metadata": {},
   "outputs": [
    {
     "data": {
      "text/plain": [
       "(2,\n",
       " '0.030*\"self\" + 0.024*\"confidence\" + 0.017*\"look\" + 0.014*\"know\" + 0.012*\"word\" + 0.012*\"really\" + 0.012*\"way\" + 0.011*\"problem\" + 0.011*\"say\" + 0.011*\"help\"')"
      ]
     },
     "execution_count": 482,
     "metadata": {},
     "output_type": "execute_result"
    }
   ],
   "source": [
    "topics[2]"
   ]
  },
  {
   "cell_type": "code",
   "execution_count": 483,
   "id": "cc9e4105",
   "metadata": {},
   "outputs": [
    {
     "data": {
      "text/plain": [
       "(3,\n",
       " '0.023*\"job\" + 0.020*\"year\" + 0.019*\"work\" + 0.016*\"school\" + 0.014*\"time\" + 0.013*\"college\" + 0.011*\"know\" + 0.011*\"start\" + 0.010*\"really\" + 0.010*\"month\"')"
      ]
     },
     "execution_count": 483,
     "metadata": {},
     "output_type": "execute_result"
    }
   ],
   "source": [
    "topics[3]"
   ]
  },
  {
   "cell_type": "code",
   "execution_count": 484,
   "id": "12580fc5",
   "metadata": {},
   "outputs": [
    {
     "data": {
      "text/plain": [
       "(4,\n",
       " '0.030*\"game\" + 0.024*\"video\" + 0.023*\"play\" + 0.021*\"time\" + 0.015*\"watch\" + 0.013*\"work\" + 0.012*\"know\" + 0.011*\"really\" + 0.011*\"day\" + 0.011*\"anything\"')"
      ]
     },
     "execution_count": 484,
     "metadata": {},
     "output_type": "execute_result"
    }
   ],
   "source": [
    "topics[4]"
   ]
  },
  {
   "cell_type": "code",
   "execution_count": 485,
   "id": "5a29cfd1",
   "metadata": {},
   "outputs": [
    {
     "data": {
      "text/plain": [
       "(5,\n",
       " '0.013*\"one\" + 0.013*\"thought\" + 0.013*\"mind\" + 0.013*\"time\" + 0.012*\"take\" + 0.012*\"fear\" + 0.011*\"way\" + 0.011*\"positive\" + 0.011*\"negative\" + 0.010*\"know\"')"
      ]
     },
     "execution_count": 485,
     "metadata": {},
     "output_type": "execute_result"
    }
   ],
   "source": [
    "topics[5]"
   ]
  },
  {
   "cell_type": "code",
   "execution_count": 486,
   "id": "94749d01",
   "metadata": {},
   "outputs": [
    {
     "data": {
      "text/plain": [
       "(6,\n",
       " '0.026*\"learn\" + 0.019*\"skill\" + 0.016*\"new\" + 0.014*\"personal\" + 0.013*\"time\" + 0.012*\"one\" + 0.012*\"work\" + 0.012*\"course\" + 0.011*\"share\" + 0.011*\"free\"')"
      ]
     },
     "execution_count": 486,
     "metadata": {},
     "output_type": "execute_result"
    }
   ],
   "source": [
    "topics[6]"
   ]
  },
  {
   "cell_type": "code",
   "execution_count": 487,
   "id": "0cfb6e64",
   "metadata": {},
   "outputs": [
    {
     "data": {
      "text/plain": [
       "(7,\n",
       " '0.019*\"person\" + 0.017*\"love\" + 0.017*\"know\" + 0.015*\"others\" + 0.015*\"someone\" + 0.013*\"stop\" + 0.013*\"relationship\" + 0.012*\"way\" + 0.012*\"really\" + 0.012*\"say\"')"
      ]
     },
     "execution_count": 487,
     "metadata": {},
     "output_type": "execute_result"
    }
   ],
   "source": [
    "topics[7]"
   ]
  },
  {
   "cell_type": "code",
   "execution_count": 488,
   "id": "505ec166",
   "metadata": {},
   "outputs": [
    {
     "data": {
      "text/plain": [
       "(8,\n",
       " '0.030*\"book\" + 0.027*\"day\" + 0.022*\"habit\" + 0.022*\"read\" + 0.017*\"time\" + 0.015*\"work\" + 0.015*\"sleep\" + 0.014*\"eat\" + 0.014*\"start\" + 0.012*\"wake\"')"
      ]
     },
     "execution_count": 488,
     "metadata": {},
     "output_type": "execute_result"
    }
   ],
   "source": [
    "topics[8]"
   ]
  },
  {
   "cell_type": "markdown",
   "id": "c8d31faa",
   "metadata": {},
   "source": [
    "## LDA nouns"
   ]
  },
  {
   "cell_type": "code",
   "execution_count": 385,
   "id": "625f9869",
   "metadata": {},
   "outputs": [],
   "source": [
    "consider_removing = ['like','feel','goal','think',\n",
    "                     'life','improve','selfimprovement',\n",
    "                     'thing','want','make','would','get',\n",
    "                     'become','improvement','good','na',\n",
    "                     'need','change','find','something',\n",
    "                     'even','people','go','url']"
   ]
  },
  {
   "cell_type": "code",
   "execution_count": 589,
   "id": "eadac21c",
   "metadata": {},
   "outputs": [],
   "source": [
    "from sklearn.feature_extraction.text import CountVectorizer\n",
    "from gensim import corpora, models, matutils\n",
    "from gensim.utils import simple_preprocess\n",
    "\n",
    "docs = post_df.nouns\n",
    "doc_tokenized = [simple_preprocess(doc) for doc in docs]\n",
    "dictionary = corpora.Dictionary()\n",
    "bow = [dictionary.doc2bow(doc, allow_update=True) for doc in doc_tokenized]\n",
    "\n",
    "#vectorizer = CountVectorizer(stop_words = consider_removing)\n",
    "#vectorizer = CountVectorizer(min_df = .05, max_df = .95)\n",
    "vectorizer = TfidfVectorizer(min_df = .05, max_df = .95, stop_words = consider_removing)\n",
    "\n",
    "term_doc_matrix = vectorizer.fit_transform(docs).transpose()"
   ]
  },
  {
   "cell_type": "code",
   "execution_count": 591,
   "id": "7e21e1c7",
   "metadata": {},
   "outputs": [
    {
     "data": {
      "text/plain": [
       "77615"
      ]
     },
     "execution_count": 591,
     "metadata": {},
     "output_type": "execute_result"
    }
   ],
   "source": [
    "len(bow)"
   ]
  },
  {
   "cell_type": "code",
   "execution_count": 544,
   "id": "1e45be8d",
   "metadata": {},
   "outputs": [],
   "source": [
    "corpus = matutils.Sparse2Corpus(term_doc_matrix)\n",
    "id2word = dict((v,k) for k, v in vectorizer.vocabulary_.items())\n",
    "lda = models.LdaModel(corpus = corpus, num_topics = 10, id2word = id2word, random_state = 31)\n",
    "#10 seems to make some sense"
   ]
  },
  {
   "cell_type": "code",
   "execution_count": 617,
   "id": "01393a92",
   "metadata": {},
   "outputs": [],
   "source": [
    "topics = lda.print_topics(num_words = 10)"
   ]
  },
  {
   "cell_type": "code",
   "execution_count": 618,
   "id": "073768e7",
   "metadata": {},
   "outputs": [
    {
     "data": {
      "text/plain": [
       "(0,\n",
       " '0.077*\"school\" + 0.063*\"college\" + 0.059*\"year\" + 0.050*\"class\" + 0.046*\"habit\" + 0.043*\"motivation\" + 0.040*\"time\" + 0.025*\"work\" + 0.023*\"anything\" + 0.022*\"job\"')"
      ]
     },
     "execution_count": 618,
     "metadata": {},
     "output_type": "execute_result"
    }
   ],
   "source": [
    "topics[0]"
   ]
  },
  {
   "cell_type": "code",
   "execution_count": 619,
   "id": "1bb585b7",
   "metadata": {},
   "outputs": [
    {
     "data": {
      "text/plain": [
       "(1,\n",
       " '0.067*\"anxiety\" + 0.052*\"depression\" + 0.041*\"hate\" + 0.035*\"year\" + 0.032*\"time\" + 0.030*\"everything\" + 0.025*\"word\" + 0.025*\"help\" + 0.025*\"cant\" + 0.024*\"health\"')"
      ]
     },
     "execution_count": 619,
     "metadata": {},
     "output_type": "execute_result"
    }
   ],
   "source": [
    "topics[1]"
   ]
  },
  {
   "cell_type": "code",
   "execution_count": 620,
   "id": "b43aef7d",
   "metadata": {},
   "outputs": [
    {
     "data": {
      "text/plain": [
       "(2,\n",
       " '0.094*\"job\" + 0.061*\"work\" + 0.057*\"money\" + 0.041*\"time\" + 0.039*\"year\" + 0.025*\"home\" + 0.025*\"anything\" + 0.024*\"month\" + 0.022*\"start\" + 0.022*\"stuff\"')"
      ]
     },
     "execution_count": 620,
     "metadata": {},
     "output_type": "execute_result"
    }
   ],
   "source": [
    "topics[2]"
   ]
  },
  {
   "cell_type": "code",
   "execution_count": 621,
   "id": "1b7ce0b3",
   "metadata": {},
   "outputs": [
    {
     "data": {
      "text/plain": [
       "(3,\n",
       " '0.104*\"friend\" + 0.042*\"family\" + 0.040*\"year\" + 0.038*\"time\" + 0.036*\"parent\" + 0.027*\"school\" + 0.024*\"care\" + 0.023*\"person\" + 0.021*\"relationship\" + 0.021*\"way\"')"
      ]
     },
     "execution_count": 621,
     "metadata": {},
     "output_type": "execute_result"
    }
   ],
   "source": [
    "topics[3]"
   ]
  },
  {
   "cell_type": "code",
   "execution_count": 622,
   "id": "230a2790",
   "metadata": {},
   "outputs": [
    {
     "data": {
      "text/plain": [
       "(4,\n",
       " '0.056*\"girl\" + 0.048*\"someone\" + 0.047*\"person\" + 0.046*\"talk\" + 0.045*\"confidence\" + 0.034*\"friend\" + 0.029*\"time\" + 0.027*\"guy\" + 0.025*\"problem\" + 0.024*\"way\"')"
      ]
     },
     "execution_count": 622,
     "metadata": {},
     "output_type": "execute_result"
    }
   ],
   "source": [
    "topics[4]"
   ]
  },
  {
   "cell_type": "code",
   "execution_count": 623,
   "id": "e4c757d1",
   "metadata": {},
   "outputs": [
    {
     "data": {
      "text/plain": [
       "(5,\n",
       " '0.145*\"book\" + 0.060*\"guy\" + 0.055*\"help\" + 0.052*\"anyone\" + 0.050*\"thanks\" + 0.043*\"question\" + 0.042*\"tip\" + 0.041*\"advice\" + 0.036*\"idea\" + 0.029*\"time\"')"
      ]
     },
     "execution_count": 623,
     "metadata": {},
     "output_type": "execute_result"
    }
   ],
   "source": [
    "topics[5]"
   ]
  },
  {
   "cell_type": "code",
   "execution_count": 616,
   "id": "9e158ffc",
   "metadata": {},
   "outputs": [
    {
     "data": {
      "text/plain": [
       "(6,\n",
       " '0.052*\"others\" + 0.050*\"way\" + 0.042*\"thought\" + 0.039*\"mind\" + 0.035*\"time\"')"
      ]
     },
     "execution_count": 616,
     "metadata": {},
     "output_type": "execute_result"
    }
   ],
   "source": [
    "topics[6]"
   ]
  },
  {
   "cell_type": "code",
   "execution_count": 553,
   "id": "e241e72b",
   "metadata": {},
   "outputs": [
    {
     "data": {
      "text/plain": [
       "(7,\n",
       " '0.057*\"game\" + 0.050*\"stop\" + 0.048*\"time\" + 0.035*\"course\" + 0.035*\"moment\" + 0.033*\"use\" + 0.029*\"way\" + 0.026*\"problem\" + 0.024*\"experience\" + 0.023*\"day\"')"
      ]
     },
     "execution_count": 553,
     "metadata": {},
     "output_type": "execute_result"
    }
   ],
   "source": [
    "topics[7]"
   ]
  },
  {
   "cell_type": "code",
   "execution_count": 554,
   "id": "ad35abcd",
   "metadata": {},
   "outputs": [
    {
     "data": {
      "text/plain": [
       "(8,\n",
       " '0.117*\"day\" + 0.075*\"time\" + 0.063*\"week\" + 0.062*\"hour\" + 0.038*\"today\" + 0.037*\"work\" + 0.037*\"month\" + 0.030*\"night\" + 0.027*\"year\" + 0.023*\"habit\"')"
      ]
     },
     "execution_count": 554,
     "metadata": {},
     "output_type": "execute_result"
    }
   ],
   "source": [
    "topics[8]"
   ]
  },
  {
   "cell_type": "code",
   "execution_count": 555,
   "id": "be6a75eb",
   "metadata": {},
   "outputs": [
    {
     "data": {
      "text/plain": [
       "(9,\n",
       " '0.071*\"self\" + 0.070*\"relationship\" + 0.055*\"skill\" + 0.051*\"step\" + 0.044*\"love\" + 0.035*\"focus\" + 0.034*\"time\" + 0.033*\"share\" + 0.026*\"way\" + 0.024*\"person\"')"
      ]
     },
     "execution_count": 555,
     "metadata": {},
     "output_type": "execute_result"
    }
   ],
   "source": [
    "topics[9]"
   ]
  },
  {
   "cell_type": "code",
   "execution_count": null,
   "id": "a038effd",
   "metadata": {},
   "outputs": [],
   "source": [
    "doc_tops = lda.get_document_topics(bow)"
   ]
  },
  {
   "cell_type": "code",
   "execution_count": 510,
   "id": "b63008fe",
   "metadata": {},
   "outputs": [
    {
     "data": {
      "text/plain": [
       "[(28, 0.12920019),\n",
       " (47, 0.07432535),\n",
       " (34, 0.0553261),\n",
       " (13, 0.048454043),\n",
       " (79, 0.04535055),\n",
       " (69, 0.04204378),\n",
       " (89, 0.029428937),\n",
       " (87, 0.022748131),\n",
       " (84, 0.022398172),\n",
       " (14, 0.021832302)]"
      ]
     },
     "execution_count": 510,
     "metadata": {},
     "output_type": "execute_result"
    }
   ],
   "source": [
    "lda.get_topic_terms(0)"
   ]
  },
  {
   "cell_type": "code",
   "execution_count": null,
   "id": "2a8707ca",
   "metadata": {},
   "outputs": [],
   "source": [
    "topics[9]"
   ]
  },
  {
   "cell_type": "code",
   "execution_count": null,
   "id": "8b782f9c",
   "metadata": {},
   "outputs": [],
   "source": [
    "# Think about a logistic regression model for pre and post pandemic posts\n",
    "# Try just nouns, or adverbs, or something"
   ]
  },
  {
   "cell_type": "code",
   "execution_count": null,
   "id": "4b4d4acb",
   "metadata": {},
   "outputs": [],
   "source": []
  },
  {
   "cell_type": "code",
   "execution_count": null,
   "id": "68e6c7da",
   "metadata": {},
   "outputs": [],
   "source": []
  }
 ],
 "metadata": {
  "kernelspec": {
   "display_name": "Python [conda env:metis] *",
   "language": "python",
   "name": "conda-env-metis-py"
  }
 },
 "nbformat": 4,
 "nbformat_minor": 5
}
